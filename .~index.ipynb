{
 "cells": [
  {
   "cell_type": "markdown",
   "metadata": {},
   "source": [
    "# Nearest Neighbors Lab"
   ]
  },
  {
   "cell_type": "markdown",
   "metadata": {},
   "source": [
    "### Introduction\n",
    "\n",
    "In this lab, you apply nearest neighbors technique to help a taxi company predict the length of their rides.  Imagine that we are hired to consult for LiftOff, a limo and taxi service that is just opening up in NYC.  Liftoff wants it's taxi drivers to target longer rides, as the longer the ride the more money it makes.  LiftOff has the following theory:\n",
    "\n",
    "* the pickup location of a taxi ride can help predict the length of the ride.  \n",
    "\n",
    "\n",
    "\n",
    "LiftOff asks us to do some analysis to write a function that will allow it to **predict the length of a taxi ride for any given location **.\n",
    "\n",
    "Our technique will be the following:\n",
    "  * **Collect** Obtain the data containing all of the taxi information, and only select the attributes of taxi trips that we need \n",
    "  * ** Explore ** Examine the attributes of our data, and plot some of our data on a map\n",
    "  * ** Train ** Write our nearest neighbors formula, and change the number of nearby trips to predict the length of a new trip\n",
    "  * ** Predict ** Use our function to predict trip lengths of new locations"
   ]
  },
  {
   "cell_type": "markdown",
   "metadata": {},
   "source": [
    "### Collect and Explore the data"
   ]
  },
  {
   "cell_type": "markdown",
   "metadata": {},
   "source": [
    "#### Collect the Data"
   ]
  },
  {
   "cell_type": "markdown",
   "metadata": {},
   "source": [
    "Luckily for us, [NYC Open Data](https://opendata.cityofnewyork.us/) collects information about NYC taxi trips and provides this data on [its website](https://data.cityofnewyork.us/Transportation/2014-Yellow-Taxi-Trip-Data/gn7m-em8n)."
   ]
  },
  {
   "cell_type": "markdown",
   "metadata": {},
   "source": [
    "![](./nyc-taxi.png)"
   ]
  },
  {
   "cell_type": "markdown",
   "metadata": {},
   "source": [
    "For your reading pleasure, the data has already been downloaded into the [trips.json](https://github.com/learn-co-curriculum/nearest-neighbors-lab/blob/master/trips.json) file in this lab which you can find here.  We'll use Python's `json` library to take the data from the `trips.json` file and store it as a variable in our notebook."
   ]
  },
  {
   "cell_type": "code",
   "execution_count": 1,
   "metadata": {},
   "outputs": [],
   "source": [
    "import json\n",
    "# First, read the file\n",
    "trips_file = open('trips.json')\n",
    "# Then, convert contents to list of dictionaries \n",
    "trips = json.load(trips_file)"
   ]
  },
  {
   "cell_type": "markdown",
   "metadata": {},
   "source": [
    "> Press shift + enter"
   ]
  },
  {
   "cell_type": "markdown",
   "metadata": {},
   "source": [
    "#### Explore the data"
   ]
  },
  {
   "cell_type": "markdown",
   "metadata": {},
   "source": [
    "The next step is to explore the data.  First, let's see how many trips we have."
   ]
  },
  {
   "cell_type": "code",
   "execution_count": 2,
   "metadata": {},
   "outputs": [
    {
     "data": {
      "text/plain": [
       "1000"
      ]
     },
     "execution_count": 2,
     "metadata": {},
     "output_type": "execute_result"
    }
   ],
   "source": [
    "len(trips)\n"
   ]
  },
  {
   "cell_type": "markdown",
   "metadata": {},
   "source": [
    "Not bad at all.  Now let's see what each individual trip looks like.  Each trip is a dictionary, so we can see the attributes of each trip with the `keys` function."
   ]
  },
  {
   "cell_type": "code",
   "execution_count": 3,
   "metadata": {
    "scrolled": true
   },
   "outputs": [
    {
     "data": {
      "text/plain": [
       "dict_keys(['dropoff_datetime', 'dropoff_latitude', 'dropoff_longitude', 'fare_amount', 'imp_surcharge', 'mta_tax', 'passenger_count', 'payment_type', 'pickup_datetime', 'pickup_latitude', 'pickup_longitude', 'rate_code', 'tip_amount', 'tolls_amount', 'total_amount', 'trip_distance', 'vendor_id'])"
      ]
     },
     "execution_count": 3,
     "metadata": {},
     "output_type": "execute_result"
    }
   ],
   "source": [
    "trips[0].keys()"
   ]
  },
  {
   "cell_type": "markdown",
   "metadata": {},
   "source": [
    "#### Limit our data"
   ]
  },
  {
   "cell_type": "markdown",
   "metadata": {},
   "source": [
    "Ok, now that we have explored some of our data, let's begin to think through what data is relevant for our task."
   ]
  },
  {
   "cell_type": "markdown",
   "metadata": {
    "collapsed": true
   },
   "source": [
    "Remember that our task is to **use the trip location to predict the length of a trip**.  So let's select the `pickup_latitude`, `pickup_longitude`, and `trip_distance` from each trip.  That will give us the trip location and related `trip_distance` for each trip.  Then based on these **actual** trip distances we can use nearest neighbors to predict an **expected** trip distance for a trip, provided an **actual** location."
   ]
  },
  {
   "cell_type": "markdown",
   "metadata": {},
   "source": [
    "** Add in about trip distance ** "
   ]
  },
  {
   "cell_type": "markdown",
   "metadata": {},
   "source": [
    "Write a function called `parse_trips(trips)` that returns a list of the trips with only the following attributes: \n",
    "* `trip_distance`\n",
    "* `pickup_latitude`\n",
    "* `pickup_longitude`"
   ]
  },
  {
   "cell_type": "code",
   "execution_count": 6,
   "metadata": {},
   "outputs": [
    {
     "data": {
      "text/plain": [
       "{'pickup_latitude': '40.64499',\n",
       " 'pickup_longitude': '-73.781149999999997',\n",
       " 'trip_distance': '18.379999999999999'}"
      ]
     },
     "execution_count": 6,
     "metadata": {},
     "output_type": "execute_result"
    }
   ],
   "source": [
    "def parse_trips(trips):\n",
    "    return list(map(lambda trip: {'pickup_latitude': trip['pickup_latitude'], 'pickup_longitude': trip['pickup_longitude'],'trip_distance': trip['trip_distance']},trips))\n",
    "                \n",
    "                \n",
    "parsed_trips = parse_trips(trips)\n",
    "parsed_trips[0]"
   ]
  },
  {
   "cell_type": "code",
   "execution_count": 7,
   "metadata": {},
   "outputs": [
    {
     "data": {
      "text/plain": [
       "{'pickup_latitude': '40.64499',\n",
       " 'pickup_longitude': '-73.781149999999997',\n",
       " 'trip_distance': '18.379999999999999'}"
      ]
     },
     "execution_count": 7,
     "metadata": {},
     "output_type": "execute_result"
    }
   ],
   "source": [
    "parsed_trips = parse_trips(trips)\n",
    "parsed_trips and parsed_trips[0]\n",
    "\n",
    "# {'pickup_latitude': '40.64499',\n",
    "#  'pickup_longitude': '-73.78115',\n",
    "#  'trip_distance': '18.38'}"
   ]
  },
  {
   "cell_type": "markdown",
   "metadata": {},
   "source": [
    "Now, there's just one change to make.  If you look at one of the trips, all of the values are strings.  Let's change them to be floats."
   ]
  },
  {
   "cell_type": "code",
   "execution_count": 55,
   "metadata": {},
   "outputs": [],
   "source": [
    "def float_values(trips):    \n",
    "    return list(map(lambda trip: {'pickup_latitude': float(trip['pickup_latitude']), 'pickup_longitude': float(trip['pickup_longitude']),'trip_distance': float(trip['trip_distance'])},trips))"
   ]
  },
  {
   "cell_type": "code",
   "execution_count": 56,
   "metadata": {},
   "outputs": [],
   "source": [
    "cleaned_trips = float_values(parsed_trips)"
   ]
  },
  {
   "cell_type": "code",
   "execution_count": 57,
   "metadata": {},
   "outputs": [
    {
     "data": {
      "text/plain": [
       "{'pickup_latitude': 40.64499,\n",
       " 'pickup_longitude': -73.78115,\n",
       " 'trip_distance': 18.38}"
      ]
     },
     "execution_count": 57,
     "metadata": {},
     "output_type": "execute_result"
    }
   ],
   "source": [
    "cleaned_trips[0]\n",
    "\n",
    "# {'pickup_latitude': 40.64499,\n",
    "#  'pickup_longitude': -73.78115,\n",
    "#  'trip_distance': 18.38}"
   ]
  },
  {
   "cell_type": "markdown",
   "metadata": {},
   "source": [
    "### Exploring the Data"
   ]
  },
  {
   "cell_type": "markdown",
   "metadata": {},
   "source": [
    "Now that we have paired down our data, let's get a sense of our trip data.  We can use the `folium` Python library to plot a map of Manhattan, and our data.  First we must import `folium`, and then use the `Map` function to pass through a `location`, and `zoom_start`.  If a map isn't showing up below, copy and paste the command `pip install -r requirements.txt` into your terminal to install `folium` then try again."
   ]
  },
  {
   "cell_type": "code",
   "execution_count": 11,
   "metadata": {},
   "outputs": [
    {
     "name": "stdout",
     "output_type": "stream",
     "text": [
      "Collecting folium (from -r requirements.txt (line 1))\n",
      "\u001b[?25l  Downloading https://files.pythonhosted.org/packages/55/e2/7e523df8558b7f4b2ab4c62014fd378ccecce3fdc14c9928b272a88ae4cc/folium-0.7.0-py3-none-any.whl (85kB)\n",
      "\u001b[K    100% |████████████████████████████████| 92kB 17.4MB/s ta 0:00:01\n",
      "\u001b[?25hRequirement already satisfied: numpy in /opt/conda/envs/learn-env/lib/python3.6/site-packages (from folium->-r requirements.txt (line 1)) (1.15.0)\n",
      "Collecting branca>=0.3.0 (from folium->-r requirements.txt (line 1))\n",
      "  Downloading https://files.pythonhosted.org/packages/63/36/1c93318e9653f4e414a2e0c3b98fc898b4970e939afeedeee6075dd3b703/branca-0.3.1-py3-none-any.whl\n",
      "Requirement already satisfied: requests in /opt/conda/envs/learn-env/lib/python3.6/site-packages (from folium->-r requirements.txt (line 1)) (2.19.1)\n",
      "Requirement already satisfied: six in /opt/conda/envs/learn-env/lib/python3.6/site-packages (from folium->-r requirements.txt (line 1)) (1.11.0)\n",
      "Requirement already satisfied: jinja2 in /opt/conda/envs/learn-env/lib/python3.6/site-packages (from folium->-r requirements.txt (line 1)) (2.10)\n",
      "Requirement already satisfied: certifi>=2017.4.17 in /opt/conda/envs/learn-env/lib/python3.6/site-packages (from requests->folium->-r requirements.txt (line 1)) (2018.8.13)\n",
      "Requirement already satisfied: urllib3<1.24,>=1.21.1 in /opt/conda/envs/learn-env/lib/python3.6/site-packages (from requests->folium->-r requirements.txt (line 1)) (1.23)\n",
      "Requirement already satisfied: chardet<3.1.0,>=3.0.2 in /opt/conda/envs/learn-env/lib/python3.6/site-packages (from requests->folium->-r requirements.txt (line 1)) (3.0.4)\n",
      "Requirement already satisfied: idna<2.8,>=2.5 in /opt/conda/envs/learn-env/lib/python3.6/site-packages (from requests->folium->-r requirements.txt (line 1)) (2.7)\n",
      "Requirement already satisfied: MarkupSafe>=0.23 in /opt/conda/envs/learn-env/lib/python3.6/site-packages (from jinja2->folium->-r requirements.txt (line 1)) (1.1.0)\n",
      "Installing collected packages: branca, folium\n",
      "Successfully installed branca-0.3.1 folium-0.7.0\n",
      "\u001b[33mYou are using pip version 10.0.1, however version 18.1 is available.\n",
      "You should consider upgrading via the 'pip install --upgrade pip' command.\u001b[0m\n"
     ]
    }
   ],
   "source": [
    "!pip install -r requirements.txt\n",
    "import folium\n",
    "manhattan_map = folium.Map(location=[40.7589, -73.9851], zoom_start=11)"
   ]
  },
  {
   "cell_type": "code",
   "execution_count": 35,
   "metadata": {
    "scrolled": true
   },
   "outputs": [
    {
     "data": {
      "text/html": [
       "<div style=\"width:100%;\"><div style=\"position:relative;width:100%;height:0;padding-bottom:60%;\"><iframe src=\"data:text/html;charset=utf-8;base64,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\" style=\"position:absolute;width:100%;height:100%;left:0;top:0;border:none !important;\" allowfullscreen webkitallowfullscreen mozallowfullscreen></iframe></div></div>"
      ],
      "text/plain": [
       "<folium.folium.Map at 0x7fe586453400>"
      ]
     },
     "execution_count": 35,
     "metadata": {},
     "output_type": "execute_result"
    }
   ],
   "source": [
    "manhattan_map"
   ]
  },
  {
   "cell_type": "markdown",
   "metadata": {},
   "source": [
    "Ok, now let's see how we could add a dot to mark a specific location.  We'll start with Times Square."
   ]
  },
  {
   "cell_type": "code",
   "execution_count": 12,
   "metadata": {},
   "outputs": [
    {
     "data": {
      "text/plain": [
       "<folium.vector_layers.CircleMarker at 0x7f30503d4048>"
      ]
     },
     "execution_count": 12,
     "metadata": {},
     "output_type": "execute_result"
    }
   ],
   "source": [
    "marker = folium.CircleMarker(location = [40.7589, -73.9851], radius=10)\n",
    "marker.add_to(manhattan_map)"
   ]
  },
  {
   "cell_type": "markdown",
   "metadata": {},
   "source": [
    "Above, we first create a marker.  Then we add that circle marker to the `manhattan_map` we created earlier. "
   ]
  },
  {
   "cell_type": "code",
   "execution_count": 18,
   "metadata": {
    "scrolled": false
   },
   "outputs": [
    {
     "data": {
      "text/html": [
       "<div style=\"width:100%;\"><div style=\"position:relative;width:100%;height:0;padding-bottom:60%;\"><iframe src=\"data:text/html;charset=utf-8;base64,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\" style=\"position:absolute;width:100%;height:100%;left:0;top:0;border:none !important;\" allowfullscreen webkitallowfullscreen mozallowfullscreen></iframe></div></div>"
      ],
      "text/plain": [
       "<folium.folium.Map at 0x7f664d023fd0>"
      ]
     },
     "execution_count": 18,
     "metadata": {},
     "output_type": "execute_result"
    }
   ],
   "source": [
    "manhattan_map"
   ]
  },
  {
   "cell_type": "markdown",
   "metadata": {},
   "source": [
    "Do you see that blue dot near Time's Square?  That is our marker.  \n",
    "\n",
    "So now that we can plot one marker on a map, we should have a sense of how we can plot many markers on a map to display our taxi ride data.  We simply plot a map, and then we add a marker for each location of a taxi trip.\n",
    "\n",
    "Now let's write some functions to allow us to plot maps and add markers a little more easily.  "
   ]
  },
  {
   "cell_type": "markdown",
   "metadata": {},
   "source": [
    "#### Writing some map plotting functions"
   ]
  },
  {
   "cell_type": "markdown",
   "metadata": {},
   "source": [
    "As a first step towards this, note that the functions to create both a marker and map each take in a location as two element list, representing the latitude and longitude values.  Take another look:\n",
    "\n",
    "```python\n",
    "marker = folium.CircleMarker(location = [40.7589, -73.9851])\n",
    "manhattan_map = folium.Map(location=[40.7589, -73.9851])\n",
    "```\n",
    "\n",
    "So let's write a function called to create this two element list from a trip.  Write a function called `location` that  takes in a trip as an argument and returns a list where the first element is the latitude and the second is the longitude.  Remember that a location looks like the following:"
   ]
  },
  {
   "cell_type": "code",
   "execution_count": 54,
   "metadata": {},
   "outputs": [
    {
     "name": "stdout",
     "output_type": "stream",
     "text": [
      "[40.64499, -73.78115]\n"
     ]
    },
    {
     "data": {
      "text/plain": [
       "<folium.vector_layers.CircleMarker at 0x7f301c9c1c50>"
      ]
     },
     "execution_count": 54,
     "metadata": {},
     "output_type": "execute_result"
    }
   ],
   "source": [
    "first_trip = {'pickup_latitude': 40.64499, 'pickup_longitude': -73.78115,  'trip_distance': 18.38}\n",
    "first_trip['pickup_latitude']\n",
    "def locatest(trip):\n",
    "    \n",
    "    return float(trip['pickup_latitude']), float(trip['pickup_longitude'])\n",
    "locatest(trips[0])\n",
    "\n",
    "def tomarkertest(trip):\n",
    "    print(list(locatest(trip)))\n",
    "    return folium.CircleMarker(location = locatest(trip), radius =6)\n",
    "tomarkertest(trips[0])"
   ]
  },
  {
   "cell_type": "code",
   "execution_count": 14,
   "metadata": {},
   "outputs": [],
   "source": [
    "def location(trip):\n",
    "    return trip['pickup_latitude'], trip['pickup_longitude']"
   ]
  },
  {
   "cell_type": "code",
   "execution_count": 15,
   "metadata": {},
   "outputs": [
    {
     "data": {
      "text/plain": [
       "(40.64499, -73.78115)"
      ]
     },
     "execution_count": 15,
     "metadata": {},
     "output_type": "execute_result"
    }
   ],
   "source": [
    "first_location = location(first_trip) # [40.64499, -73.78115]\n",
    "first_location # [40.64499, -73.78115]"
   ]
  },
  {
   "cell_type": "markdown",
   "metadata": {},
   "source": [
    "Ok, now that we can turn a trip into a location, let's turn a location into a marker.  Write a function called `to_marker` that takes in a location (in the form of a list) as an argument, and returns a folium `circleMarker` for that location.  The radius of the marker should always equal 6."
   ]
  },
  {
   "cell_type": "code",
   "execution_count": 60,
   "metadata": {},
   "outputs": [
    {
     "data": {
      "text/plain": [
       "<folium.vector_layers.CircleMarker at 0x7f301c9c1f60>"
      ]
     },
     "execution_count": 60,
     "metadata": {},
     "output_type": "execute_result"
    }
   ],
   "source": [
    "def to_marker(locat):\n",
    "    \n",
    "    return folium.CircleMarker(location = locat, radius =6)\n",
    "to_marker([40.7589, -73.9851])\n",
    "to_marker(location(cleaned_trips[0]))"
   ]
  },
  {
   "cell_type": "code",
   "execution_count": 44,
   "metadata": {},
   "outputs": [
    {
     "data": {
      "text/plain": [
       "[40.7589, -73.9851]"
      ]
     },
     "execution_count": 44,
     "metadata": {},
     "output_type": "execute_result"
    }
   ],
   "source": [
    "import json\n",
    "times_square_marker = to_marker([40.7589, -73.9851])\n",
    "\n",
    "times_square_marker and times_square_marker.location # [40.7589, -73.9851]\n",
    "times_square_marker and json.loads(times_square_marker.options)['radius'] # 6\n",
    "times_square_marker and times_square_marker.location"
   ]
  },
  {
   "cell_type": "markdown",
   "metadata": {},
   "source": [
    "Ok, now that we know how to produce a single marker, let's write a function to produce lots.  We can write a function called `markers_from_trips` that takes in a list of trips, and returns a marker object for each trip.  "
   ]
  },
  {
   "cell_type": "code",
   "execution_count": 65,
   "metadata": {},
   "outputs": [],
   "source": [
    "def markers_from_trips(trips):\n",
    "    return list(map(lambda trip: to_marker(location(trip)),trips))"
   ]
  },
  {
   "cell_type": "code",
   "execution_count": 69,
   "metadata": {},
   "outputs": [
    {
     "data": {
      "text/plain": [
       "[<folium.vector_layers.CircleMarker at 0x7f301ca35c50>,\n",
       " <folium.vector_layers.CircleMarker at 0x7f301ca35240>,\n",
       " <folium.vector_layers.CircleMarker at 0x7f301ca35a20>,\n",
       " <folium.vector_layers.CircleMarker at 0x7f301ca35668>]"
      ]
     },
     "execution_count": 69,
     "metadata": {},
     "output_type": "execute_result"
    }
   ],
   "source": [
    "trip_markers = markers_from_trips(cleaned_trips)\n",
    "trip_markers[0:4]"
   ]
  },
  {
   "cell_type": "code",
   "execution_count": 67,
   "metadata": {},
   "outputs": [
    {
     "data": {
      "text/plain": [
       "[{'pickup_latitude': 40.64499,\n",
       "  'pickup_longitude': -73.78115,\n",
       "  'trip_distance': 18.38},\n",
       " {'pickup_latitude': 40.766931,\n",
       "  'pickup_longitude': -73.982098,\n",
       "  'trip_distance': 1.3},\n",
       " {'pickup_latitude': 40.77773,\n",
       "  'pickup_longitude': -73.951902,\n",
       "  'trip_distance': 4.5},\n",
       " {'pickup_latitude': 40.795678,\n",
       "  'pickup_longitude': -73.971049,\n",
       "  'trip_distance': 2.4}]"
      ]
     },
     "execution_count": 67,
     "metadata": {},
     "output_type": "execute_result"
    }
   ],
   "source": [
    "cleaned_trips[0:4]"
   ]
  },
  {
   "cell_type": "code",
   "execution_count": 70,
   "metadata": {},
   "outputs": [
    {
     "data": {
      "text/plain": [
       "[[40.64499, -73.78115],\n",
       " [40.766931, -73.982098],\n",
       " [40.77773, -73.951902],\n",
       " [40.795678, -73.971049]]"
      ]
     },
     "execution_count": 70,
     "metadata": {},
     "output_type": "execute_result"
    }
   ],
   "source": [
    "trip_markers and len(trip_markers) # 1000\n",
    "\n",
    "list(map(lambda marker: marker.location, trip_markers[0:4]))\n",
    "# [[40.64499, -73.78115],\n",
    "#  [40.766931, -73.982098],\n",
    "#  [40.77773, -73.951902],\n",
    "#  [40.795678, -73.971049]]"
   ]
  },
  {
   "cell_type": "markdown",
   "metadata": {},
   "source": [
    "Ok, now that we have a function that creates locations, and a function that creates markers, it is time to write a function to plot a map. \n",
    "\n",
    "Write a function called `map_from` that, provided the first argument of a list location and second argument an integer representing the `zoom_start`, returns a `folium` map the corresponding location and `zoom_start` attributes.\n",
    "\n",
    "> Hint: The following is how to write a map with folium:\n",
    "> ```python \n",
    "    folium.Map(location=location, zoom_start=zoom_amount)\n",
    "> ```"
   ]
  },
  {
   "cell_type": "code",
   "execution_count": 76,
   "metadata": {},
   "outputs": [
    {
     "name": "stdout",
     "output_type": "stream",
     "text": [
      "['__class__', '__delattr__', '__dict__', '__dir__', '__doc__', '__eq__', '__format__', '__ge__', '__getattribute__', '__gt__', '__hash__', '__init__', '__init_subclass__', '__le__', '__lt__', '__module__', '__ne__', '__new__', '__reduce__', '__reduce_ex__', '__repr__', '__setattr__', '__sizeof__', '__str__', '__subclasshook__', '__weakref__', '_get_self_bounds', '_repr_html_', '_repr_png_', '_template', '_to_png', 'add_child', 'add_children', 'add_tile_layer', 'add_to', 'choropleth', 'fit_bounds', 'get_bounds', 'get_name', 'get_root', 'keep_in_front', 'render', 'save', 'to_dict', 'to_json']\n"
     ]
    }
   ],
   "source": [
    "def map_from(location, zoom_amount):\n",
    "    return folium.Map(location=location, zoom_start=zoom_amount)\n",
    "print(dir(folium.Map))"
   ]
  },
  {
   "cell_type": "code",
   "execution_count": 77,
   "metadata": {},
   "outputs": [
    {
     "data": {
      "text/plain": [
       "15"
      ]
     },
     "execution_count": 77,
     "metadata": {},
     "output_type": "execute_result"
    }
   ],
   "source": [
    "times_square_map = map_from([40.7589, -73.9851], 15)\n",
    "times_square_map and times_square_map.location # [40.7589, -73.9851]\n",
    "times_square_map and times_square_map.zoom_start # 15"
   ]
  },
  {
   "cell_type": "code",
   "execution_count": 78,
   "metadata": {
    "scrolled": true
   },
   "outputs": [
    {
     "data": {
      "text/html": [
       "<div style=\"width:100%;\"><div style=\"position:relative;width:100%;height:0;padding-bottom:60%;\"><iframe src=\"data:text/html;charset=utf-8;base64,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\" style=\"position:absolute;width:100%;height:100%;left:0;top:0;border:none !important;\" allowfullscreen webkitallowfullscreen mozallowfullscreen></iframe></div></div>"
      ],
      "text/plain": [
       "<folium.folium.Map at 0x7f301ca18c88>"
      ]
     },
     "execution_count": 78,
     "metadata": {},
     "output_type": "execute_result"
    }
   ],
   "source": [
    "times_square_marker and times_square_marker.add_to(times_square_map)\n",
    "times_square_map"
   ]
  },
  {
   "cell_type": "markdown",
   "metadata": {},
   "source": [
    "Now that we have a marker and a map, now let's write a function that adds a lot of markers to a map.  This function should add each marker in the list to the map object then return the updated map object."
   ]
  },
  {
   "cell_type": "code",
   "execution_count": 90,
   "metadata": {},
   "outputs": [],
   "source": [
    "manhattan_map = map_from([40.7589, -73.9851], 13)"
   ]
  },
  {
   "cell_type": "code",
   "execution_count": 93,
   "metadata": {},
   "outputs": [],
   "source": [
    "def add_markers(markers, map_obj):\n",
    "    return list(map(lambda marker: marker.add_to(map_obj), markers))\n",
    "     "
   ]
  },
  {
   "cell_type": "code",
   "execution_count": 94,
   "metadata": {
    "scrolled": false
   },
   "outputs": [],
   "source": [
    "map_with_markers = add_markers(trip_markers, manhattan_map)"
   ]
  },
  {
   "cell_type": "code",
   "execution_count": 95,
   "metadata": {},
   "outputs": [
    {
     "data": {
      "text/plain": [
       "[<folium.vector_layers.CircleMarker at 0x7f301ca35c50>,\n",
       " <folium.vector_layers.CircleMarker at 0x7f301ca35240>,\n",
       " <folium.vector_layers.CircleMarker at 0x7f301ca35a20>,\n",
       " <folium.vector_layers.CircleMarker at 0x7f301ca35668>,\n",
       " <folium.vector_layers.CircleMarker at 0x7f301ca350b8>,\n",
       " <folium.vector_layers.CircleMarker at 0x7f301ca357f0>,\n",
       " <folium.vector_layers.CircleMarker at 0x7f301ca35828>,\n",
       " <folium.vector_layers.CircleMarker at 0x7f301ca35048>,\n",
       " <folium.vector_layers.CircleMarker at 0x7f301ca35320>,\n",
       " <folium.vector_layers.CircleMarker at 0x7f301c8fe4a8>,\n",
       " <folium.vector_layers.CircleMarker at 0x7f301caba128>,\n",
       " <folium.vector_layers.CircleMarker at 0x7f301c8a6b38>,\n",
       " <folium.vector_layers.CircleMarker at 0x7f30505086a0>,\n",
       " <folium.vector_layers.CircleMarker at 0x7f301c8a6ba8>,\n",
       " <folium.vector_layers.CircleMarker at 0x7f301c9c1b70>,\n",
       " <folium.vector_layers.CircleMarker at 0x7f301c9c1cc0>,\n",
       " <folium.vector_layers.CircleMarker at 0x7f301c8bb048>,\n",
       " <folium.vector_layers.CircleMarker at 0x7f301c8bb128>,\n",
       " <folium.vector_layers.CircleMarker at 0x7f301c8bb240>,\n",
       " <folium.vector_layers.CircleMarker at 0x7f301c8bb2e8>,\n",
       " <folium.vector_layers.CircleMarker at 0x7f301c911c18>,\n",
       " <folium.vector_layers.CircleMarker at 0x7f301c9c1d30>,\n",
       " <folium.vector_layers.CircleMarker at 0x7f301c8a6048>,\n",
       " <folium.vector_layers.CircleMarker at 0x7f301c8a62b0>,\n",
       " <folium.vector_layers.CircleMarker at 0x7f301c8a6e10>,\n",
       " <folium.vector_layers.CircleMarker at 0x7f301ca35908>,\n",
       " <folium.vector_layers.CircleMarker at 0x7f301ca35470>,\n",
       " <folium.vector_layers.CircleMarker at 0x7f30502b3518>,\n",
       " <folium.vector_layers.CircleMarker at 0x7f301ca35c18>,\n",
       " <folium.vector_layers.CircleMarker at 0x7f301ca35fd0>,\n",
       " <folium.vector_layers.CircleMarker at 0x7f301ca35748>,\n",
       " <folium.vector_layers.CircleMarker at 0x7f301c8bb0b8>,\n",
       " <folium.vector_layers.CircleMarker at 0x7f301c8bb400>,\n",
       " <folium.vector_layers.CircleMarker at 0x7f301c8bb438>,\n",
       " <folium.vector_layers.CircleMarker at 0x7f301c8bb320>,\n",
       " <folium.vector_layers.CircleMarker at 0x7f301c8bb518>,\n",
       " <folium.vector_layers.CircleMarker at 0x7f301c8bb5c0>,\n",
       " <folium.vector_layers.CircleMarker at 0x7f301c8bb668>,\n",
       " <folium.vector_layers.CircleMarker at 0x7f301c8bb710>,\n",
       " <folium.vector_layers.CircleMarker at 0x7f301c8bb7b8>,\n",
       " <folium.vector_layers.CircleMarker at 0x7f301c8bb860>,\n",
       " <folium.vector_layers.CircleMarker at 0x7f301ca35160>,\n",
       " <folium.vector_layers.CircleMarker at 0x7f301ca35cf8>,\n",
       " <folium.vector_layers.CircleMarker at 0x7f30503d4320>,\n",
       " <folium.vector_layers.CircleMarker at 0x7f301c9c1a90>,\n",
       " <folium.vector_layers.CircleMarker at 0x7f301ca35278>,\n",
       " <folium.vector_layers.CircleMarker at 0x7f301c8a6860>,\n",
       " <folium.vector_layers.CircleMarker at 0x7f301c8a6be0>,\n",
       " <folium.vector_layers.CircleMarker at 0x7f301c8bb828>,\n",
       " <folium.vector_layers.CircleMarker at 0x7f301c8bb6d8>,\n",
       " <folium.vector_layers.CircleMarker at 0x7f301c8bb470>,\n",
       " <folium.vector_layers.CircleMarker at 0x7f301c8bb4e0>,\n",
       " <folium.vector_layers.CircleMarker at 0x7f301c8bb1d0>,\n",
       " <folium.vector_layers.CircleMarker at 0x7f301c8bb198>,\n",
       " <folium.vector_layers.CircleMarker at 0x7f301c8bb940>,\n",
       " <folium.vector_layers.CircleMarker at 0x7f301c8bb9e8>,\n",
       " <folium.vector_layers.CircleMarker at 0x7f301c8bb2b0>,\n",
       " <folium.vector_layers.CircleMarker at 0x7f301c8bbac8>,\n",
       " <folium.vector_layers.CircleMarker at 0x7f301c8bbb70>,\n",
       " <folium.vector_layers.CircleMarker at 0x7f301c8bbc18>,\n",
       " <folium.vector_layers.CircleMarker at 0x7f301c8bbcc0>,\n",
       " <folium.vector_layers.CircleMarker at 0x7f301c8bbd68>,\n",
       " <folium.vector_layers.CircleMarker at 0x7f301c8bbe10>,\n",
       " <folium.vector_layers.CircleMarker at 0x7f301c9c1860>,\n",
       " <folium.vector_layers.CircleMarker at 0x7f301c8a64e0>,\n",
       " <folium.vector_layers.CircleMarker at 0x7f301ca359b0>,\n",
       " <folium.vector_layers.CircleMarker at 0x7f301ca35390>,\n",
       " <folium.vector_layers.CircleMarker at 0x7f301c8bbc50>,\n",
       " <folium.vector_layers.CircleMarker at 0x7f301c8bbc88>,\n",
       " <folium.vector_layers.CircleMarker at 0x7f301c8bbb38>,\n",
       " <folium.vector_layers.CircleMarker at 0x7f301c8bb208>,\n",
       " <folium.vector_layers.CircleMarker at 0x7f301c8bb9b0>,\n",
       " <folium.vector_layers.CircleMarker at 0x7f301c8bb588>,\n",
       " <folium.vector_layers.CircleMarker at 0x7f301c8bb4a8>,\n",
       " <folium.vector_layers.CircleMarker at 0x7f301c8bb6a0>,\n",
       " <folium.vector_layers.CircleMarker at 0x7f301c8bb780>,\n",
       " <folium.vector_layers.CircleMarker at 0x7f301c8bbeb8>,\n",
       " <folium.vector_layers.CircleMarker at 0x7f301c8bbda0>,\n",
       " <folium.vector_layers.CircleMarker at 0x7f301c8bbfd0>,\n",
       " <folium.vector_layers.CircleMarker at 0x7f301c8bbf60>,\n",
       " <folium.vector_layers.CircleMarker at 0x7f301c8ce048>,\n",
       " <folium.vector_layers.CircleMarker at 0x7f301c8ce160>,\n",
       " <folium.vector_layers.CircleMarker at 0x7f301c8ce240>,\n",
       " <folium.vector_layers.CircleMarker at 0x7f301c8ce2e8>,\n",
       " <folium.vector_layers.CircleMarker at 0x7f301c8ce390>,\n",
       " <folium.vector_layers.CircleMarker at 0x7f301c8bbba8>,\n",
       " <folium.vector_layers.CircleMarker at 0x7f301c8bbf98>,\n",
       " <folium.vector_layers.CircleMarker at 0x7f301c8bb390>,\n",
       " <folium.vector_layers.CircleMarker at 0x7f301c8bb3c8>,\n",
       " <folium.vector_layers.CircleMarker at 0x7f301c8bb7f0>,\n",
       " <folium.vector_layers.CircleMarker at 0x7f301c8bb278>,\n",
       " <folium.vector_layers.CircleMarker at 0x7f301c8bba20>,\n",
       " <folium.vector_layers.CircleMarker at 0x7f301c8a6128>,\n",
       " <folium.vector_layers.CircleMarker at 0x7f301c8bbcf8>,\n",
       " <folium.vector_layers.CircleMarker at 0x7f301ca354e0>,\n",
       " <folium.vector_layers.CircleMarker at 0x7f301ca35be0>,\n",
       " <folium.vector_layers.CircleMarker at 0x7f301c8ce198>,\n",
       " <folium.vector_layers.CircleMarker at 0x7f301c8ce1d0>,\n",
       " <folium.vector_layers.CircleMarker at 0x7f301c8ce438>,\n",
       " <folium.vector_layers.CircleMarker at 0x7f301c8ce320>,\n",
       " <folium.vector_layers.CircleMarker at 0x7f301c8ce550>,\n",
       " <folium.vector_layers.CircleMarker at 0x7f301c8ce588>,\n",
       " <folium.vector_layers.CircleMarker at 0x7f301c8ce630>,\n",
       " <folium.vector_layers.CircleMarker at 0x7f301c8ce6d8>,\n",
       " <folium.vector_layers.CircleMarker at 0x7f301c8ce780>,\n",
       " <folium.vector_layers.CircleMarker at 0x7f301c8ce828>,\n",
       " <folium.vector_layers.CircleMarker at 0x7f301c8ce8d0>,\n",
       " <folium.vector_layers.CircleMarker at 0x7f301c8bbbe0>,\n",
       " <folium.vector_layers.CircleMarker at 0x7f301c8bb898>,\n",
       " <folium.vector_layers.CircleMarker at 0x7f301c8bb160>,\n",
       " <folium.vector_layers.CircleMarker at 0x7f301c8bb5f8>,\n",
       " <folium.vector_layers.CircleMarker at 0x7f301c8bbf28>,\n",
       " <folium.vector_layers.CircleMarker at 0x7f301c8bb748>,\n",
       " <folium.vector_layers.CircleMarker at 0x7f301c911ac8>,\n",
       " <folium.vector_layers.CircleMarker at 0x7f301c8bb630>,\n",
       " <folium.vector_layers.CircleMarker at 0x7f301d2a1d68>,\n",
       " <folium.vector_layers.CircleMarker at 0x7f301c8a6c88>,\n",
       " <folium.vector_layers.CircleMarker at 0x7f301c8a6dd8>,\n",
       " <folium.vector_layers.CircleMarker at 0x7f301ca355c0>,\n",
       " <folium.vector_layers.CircleMarker at 0x7f301c8ce7f0>,\n",
       " <folium.vector_layers.CircleMarker at 0x7f301c8ce6a0>,\n",
       " <folium.vector_layers.CircleMarker at 0x7f301c8ce4a8>,\n",
       " <folium.vector_layers.CircleMarker at 0x7f301c8ce518>,\n",
       " <folium.vector_layers.CircleMarker at 0x7f301c8ce278>,\n",
       " <folium.vector_layers.CircleMarker at 0x7f301c8ce358>,\n",
       " <folium.vector_layers.CircleMarker at 0x7f301c8ce7b8>,\n",
       " <folium.vector_layers.CircleMarker at 0x7f301c8ce9b0>,\n",
       " <folium.vector_layers.CircleMarker at 0x7f301c8cea58>,\n",
       " <folium.vector_layers.CircleMarker at 0x7f301c8ce128>,\n",
       " <folium.vector_layers.CircleMarker at 0x7f301c8a6710>,\n",
       " <folium.vector_layers.CircleMarker at 0x7f301ca356d8>,\n",
       " <folium.vector_layers.CircleMarker at 0x7f301ca35f60>,\n",
       " <folium.vector_layers.CircleMarker at 0x7f301c8bb358>,\n",
       " <folium.vector_layers.CircleMarker at 0x7f301c9c1c18>,\n",
       " <folium.vector_layers.CircleMarker at 0x7f301c8bbef0>,\n",
       " <folium.vector_layers.CircleMarker at 0x7f301c8bb908>,\n",
       " <folium.vector_layers.CircleMarker at 0x7f301c8bbd30>,\n",
       " <folium.vector_layers.CircleMarker at 0x7f301c8ce978>,\n",
       " <folium.vector_layers.CircleMarker at 0x7f301c8ce9e8>,\n",
       " <folium.vector_layers.CircleMarker at 0x7f301c8ce2b0>,\n",
       " <folium.vector_layers.CircleMarker at 0x7f301c8ce5c0>,\n",
       " <folium.vector_layers.CircleMarker at 0x7f301c8ce5f8>,\n",
       " <folium.vector_layers.CircleMarker at 0x7f301c8ce898>,\n",
       " <folium.vector_layers.CircleMarker at 0x7f301c8ceba8>,\n",
       " <folium.vector_layers.CircleMarker at 0x7f301c8cebe0>,\n",
       " <folium.vector_layers.CircleMarker at 0x7f301c8ceac8>,\n",
       " <folium.vector_layers.CircleMarker at 0x7f301c8cecc0>,\n",
       " <folium.vector_layers.CircleMarker at 0x7f301c8ced68>,\n",
       " <folium.vector_layers.CircleMarker at 0x7f301c8cee10>,\n",
       " <folium.vector_layers.CircleMarker at 0x7f301c8ceeb8>,\n",
       " <folium.vector_layers.CircleMarker at 0x7f301c8cef60>,\n",
       " <folium.vector_layers.CircleMarker at 0x7f301c8bb8d0>,\n",
       " <folium.vector_layers.CircleMarker at 0x7f30505085f8>,\n",
       " <folium.vector_layers.CircleMarker at 0x7f301c8a6cc0>,\n",
       " <folium.vector_layers.CircleMarker at 0x7f301ca35780>,\n",
       " <folium.vector_layers.CircleMarker at 0x7f301c8bbe80>,\n",
       " <folium.vector_layers.CircleMarker at 0x7f301c8bbe48>,\n",
       " <folium.vector_layers.CircleMarker at 0x7f301c8ce710>,\n",
       " <folium.vector_layers.CircleMarker at 0x7f301c8ceb70>,\n",
       " <folium.vector_layers.CircleMarker at 0x7f301c8cec50>,\n",
       " <folium.vector_layers.CircleMarker at 0x7f301c8ce0f0>,\n",
       " <folium.vector_layers.CircleMarker at 0x7f301c8ce748>,\n",
       " <folium.vector_layers.CircleMarker at 0x7f301c8ce080>,\n",
       " <folium.vector_layers.CircleMarker at 0x7f301c8ce940>,\n",
       " <folium.vector_layers.CircleMarker at 0x7f301c8ceb00>,\n",
       " <folium.vector_layers.CircleMarker at 0x7f301c8ce400>,\n",
       " <folium.vector_layers.CircleMarker at 0x7f301c8cee48>,\n",
       " <folium.vector_layers.CircleMarker at 0x7f301c8610b8>,\n",
       " <folium.vector_layers.CircleMarker at 0x7f301c8611d0>,\n",
       " <folium.vector_layers.CircleMarker at 0x7f301c861278>,\n",
       " <folium.vector_layers.CircleMarker at 0x7f301c861320>,\n",
       " <folium.vector_layers.CircleMarker at 0x7f301c8613c8>,\n",
       " <folium.vector_layers.CircleMarker at 0x7f301c861470>,\n",
       " <folium.vector_layers.CircleMarker at 0x7f301ca35588>,\n",
       " <folium.vector_layers.CircleMarker at 0x7f301c8cea20>,\n",
       " <folium.vector_layers.CircleMarker at 0x7f301c8ceb38>,\n",
       " <folium.vector_layers.CircleMarker at 0x7f301c8ce668>,\n",
       " <folium.vector_layers.CircleMarker at 0x7f301c8cedd8>,\n",
       " <folium.vector_layers.CircleMarker at 0x7f301c8ce860>,\n",
       " <folium.vector_layers.CircleMarker at 0x7f301c8cecf8>,\n",
       " <folium.vector_layers.CircleMarker at 0x7f301c8ced30>,\n",
       " <folium.vector_layers.CircleMarker at 0x7f301c8bb080>,\n",
       " <folium.vector_layers.CircleMarker at 0x7f301c8bb550>,\n",
       " <folium.vector_layers.CircleMarker at 0x7f301c8bba58>,\n",
       " <folium.vector_layers.CircleMarker at 0x7f301c861390>,\n",
       " <folium.vector_layers.CircleMarker at 0x7f301c861240>,\n",
       " <folium.vector_layers.CircleMarker at 0x7f301c861048>,\n",
       " <folium.vector_layers.CircleMarker at 0x7f301c861588>,\n",
       " <folium.vector_layers.CircleMarker at 0x7f301c8615c0>,\n",
       " <folium.vector_layers.CircleMarker at 0x7f301c8614a8>,\n",
       " <folium.vector_layers.CircleMarker at 0x7f301c8616a0>,\n",
       " <folium.vector_layers.CircleMarker at 0x7f301c861748>,\n",
       " <folium.vector_layers.CircleMarker at 0x7f301c8617f0>,\n",
       " <folium.vector_layers.CircleMarker at 0x7f301c861898>,\n",
       " <folium.vector_layers.CircleMarker at 0x7f301c8bba90>,\n",
       " <folium.vector_layers.CircleMarker at 0x7f301c8bb978>,\n",
       " <folium.vector_layers.CircleMarker at 0x7f301c8cefd0>,\n",
       " <folium.vector_layers.CircleMarker at 0x7f301d2a1710>,\n",
       " <folium.vector_layers.CircleMarker at 0x7f301ca35710>,\n",
       " <folium.vector_layers.CircleMarker at 0x7f301c8ce3c8>,\n",
       " <folium.vector_layers.CircleMarker at 0x7f301c8ce470>,\n",
       " <folium.vector_layers.CircleMarker at 0x7f301c8ce208>,\n",
       " <folium.vector_layers.CircleMarker at 0x7f301c8610f0>,\n",
       " <folium.vector_layers.CircleMarker at 0x7f301c861550>,\n",
       " <folium.vector_layers.CircleMarker at 0x7f301c861630>,\n",
       " <folium.vector_layers.CircleMarker at 0x7f301c861128>,\n",
       " <folium.vector_layers.CircleMarker at 0x7f301c861160>,\n",
       " <folium.vector_layers.CircleMarker at 0x7f301c861438>,\n",
       " <folium.vector_layers.CircleMarker at 0x7f301c861828>,\n",
       " <folium.vector_layers.CircleMarker at 0x7f301c861a58>,\n",
       " <folium.vector_layers.CircleMarker at 0x7f301c861a90>,\n",
       " <folium.vector_layers.CircleMarker at 0x7f301c861b38>,\n",
       " <folium.vector_layers.CircleMarker at 0x7f301c861be0>,\n",
       " <folium.vector_layers.CircleMarker at 0x7f301c861c88>,\n",
       " <folium.vector_layers.CircleMarker at 0x7f301c861d30>,\n",
       " <folium.vector_layers.CircleMarker at 0x7f301c861dd8>,\n",
       " <folium.vector_layers.CircleMarker at 0x7f301c8ce0b8>,\n",
       " <folium.vector_layers.CircleMarker at 0x7f301c8ceda0>,\n",
       " <folium.vector_layers.CircleMarker at 0x7f301c8bb0f0>,\n",
       " <folium.vector_layers.CircleMarker at 0x7f301c8cea90>,\n",
       " <folium.vector_layers.CircleMarker at 0x7f301c8ce4e0>,\n",
       " <folium.vector_layers.CircleMarker at 0x7f301c861ac8>,\n",
       " <folium.vector_layers.CircleMarker at 0x7f301c8619e8>,\n",
       " <folium.vector_layers.CircleMarker at 0x7f301c8612b0>,\n",
       " <folium.vector_layers.CircleMarker at 0x7f301c861518>,\n",
       " <folium.vector_layers.CircleMarker at 0x7f301c8612e8>,\n",
       " <folium.vector_layers.CircleMarker at 0x7f301c8617b8>,\n",
       " <folium.vector_layers.CircleMarker at 0x7f301c861358>,\n",
       " <folium.vector_layers.CircleMarker at 0x7f301c8616d8>,\n",
       " <folium.vector_layers.CircleMarker at 0x7f301c861e80>,\n",
       " <folium.vector_layers.CircleMarker at 0x7f301c861d68>,\n",
       " <folium.vector_layers.CircleMarker at 0x7f301c861f98>,\n",
       " <folium.vector_layers.CircleMarker at 0x7f301c861fd0>,\n",
       " <folium.vector_layers.CircleMarker at 0x7f301c861f28>,\n",
       " <folium.vector_layers.CircleMarker at 0x7f301c8720f0>,\n",
       " <folium.vector_layers.CircleMarker at 0x7f301c872208>,\n",
       " <folium.vector_layers.CircleMarker at 0x7f301c8722b0>,\n",
       " <folium.vector_layers.CircleMarker at 0x7f301c872358>,\n",
       " <folium.vector_layers.CircleMarker at 0x7f301c861da0>,\n",
       " <folium.vector_layers.CircleMarker at 0x7f301c861f60>,\n",
       " <folium.vector_layers.CircleMarker at 0x7f301c861668>,\n",
       " <folium.vector_layers.CircleMarker at 0x7f301c861860>,\n",
       " <folium.vector_layers.CircleMarker at 0x7f301c861b00>,\n",
       " <folium.vector_layers.CircleMarker at 0x7f301c8bbdd8>,\n",
       " <folium.vector_layers.CircleMarker at 0x7f301c8614e0>,\n",
       " <folium.vector_layers.CircleMarker at 0x7f301c8618d0>,\n",
       " <folium.vector_layers.CircleMarker at 0x7f301c861ba8>,\n",
       " <folium.vector_layers.CircleMarker at 0x7f301c8cec88>,\n",
       " <folium.vector_layers.CircleMarker at 0x7f301c8ceef0>,\n",
       " <folium.vector_layers.CircleMarker at 0x7f301c872128>,\n",
       " <folium.vector_layers.CircleMarker at 0x7f301c872160>,\n",
       " <folium.vector_layers.CircleMarker at 0x7f301c872400>,\n",
       " <folium.vector_layers.CircleMarker at 0x7f301c8722e8>,\n",
       " <folium.vector_layers.CircleMarker at 0x7f301c872518>,\n",
       " <folium.vector_layers.CircleMarker at 0x7f301c872550>,\n",
       " <folium.vector_layers.CircleMarker at 0x7f301c8725f8>,\n",
       " <folium.vector_layers.CircleMarker at 0x7f301c8726a0>,\n",
       " <folium.vector_layers.CircleMarker at 0x7f301c872748>,\n",
       " <folium.vector_layers.CircleMarker at 0x7f301c8727f0>,\n",
       " <folium.vector_layers.CircleMarker at 0x7f301c872898>,\n",
       " <folium.vector_layers.CircleMarker at 0x7f301c8bbb00>,\n",
       " <folium.vector_layers.CircleMarker at 0x7f301c8ce908>,\n",
       " <folium.vector_layers.CircleMarker at 0x7f301c861c18>,\n",
       " <folium.vector_layers.CircleMarker at 0x7f301c861c50>,\n",
       " <folium.vector_layers.CircleMarker at 0x7f301c8619b0>,\n",
       " <folium.vector_layers.CircleMarker at 0x7f301c861eb8>,\n",
       " <folium.vector_layers.CircleMarker at 0x7f301c861978>,\n",
       " <folium.vector_layers.CircleMarker at 0x7f301c8726d8>,\n",
       " <folium.vector_layers.CircleMarker at 0x7f301c872710>,\n",
       " <folium.vector_layers.CircleMarker at 0x7f301c8725c0>,\n",
       " <folium.vector_layers.CircleMarker at 0x7f301c8720b8>,\n",
       " <folium.vector_layers.CircleMarker at 0x7f301c872438>,\n",
       " <folium.vector_layers.CircleMarker at 0x7f301c872278>,\n",
       " <folium.vector_layers.CircleMarker at 0x7f301c872940>,\n",
       " <folium.vector_layers.CircleMarker at 0x7f301c872828>,\n",
       " <folium.vector_layers.CircleMarker at 0x7f301c872a58>,\n",
       " <folium.vector_layers.CircleMarker at 0x7f301c872a90>,\n",
       " <folium.vector_layers.CircleMarker at 0x7f301c872b38>,\n",
       " <folium.vector_layers.CircleMarker at 0x7f301c872be0>,\n",
       " <folium.vector_layers.CircleMarker at 0x7f301c872c88>,\n",
       " <folium.vector_layers.CircleMarker at 0x7f301c872d30>,\n",
       " <folium.vector_layers.CircleMarker at 0x7f301c872dd8>,\n",
       " <folium.vector_layers.CircleMarker at 0x7f301c861b70>,\n",
       " <folium.vector_layers.CircleMarker at 0x7f301c861400>,\n",
       " <folium.vector_layers.CircleMarker at 0x7f301c8cee80>,\n",
       " <folium.vector_layers.CircleMarker at 0x7f301c861ef0>,\n",
       " <folium.vector_layers.CircleMarker at 0x7f301c861cf8>,\n",
       " <folium.vector_layers.CircleMarker at 0x7f301c872ac8>,\n",
       " <folium.vector_layers.CircleMarker at 0x7f301c8729e8>,\n",
       " <folium.vector_layers.CircleMarker at 0x7f301c872080>,\n",
       " <folium.vector_layers.CircleMarker at 0x7f301c872240>,\n",
       " <folium.vector_layers.CircleMarker at 0x7f301c872780>,\n",
       " <folium.vector_layers.CircleMarker at 0x7f301c872390>,\n",
       " <folium.vector_layers.CircleMarker at 0x7f301c8721d0>,\n",
       " <folium.vector_layers.CircleMarker at 0x7f301c8727b8>,\n",
       " <folium.vector_layers.CircleMarker at 0x7f301c872e80>,\n",
       " <folium.vector_layers.CircleMarker at 0x7f301c872d68>,\n",
       " <folium.vector_layers.CircleMarker at 0x7f301c872f98>,\n",
       " <folium.vector_layers.CircleMarker at 0x7f301c872fd0>,\n",
       " <folium.vector_layers.CircleMarker at 0x7f301c872f28>,\n",
       " <folium.vector_layers.CircleMarker at 0x7f301c886128>,\n",
       " <folium.vector_layers.CircleMarker at 0x7f301c886208>,\n",
       " <folium.vector_layers.CircleMarker at 0x7f301c8862b0>,\n",
       " <folium.vector_layers.CircleMarker at 0x7f301c886358>,\n",
       " <folium.vector_layers.CircleMarker at 0x7f301c861198>,\n",
       " <folium.vector_layers.CircleMarker at 0x7f301c861208>,\n",
       " <folium.vector_layers.CircleMarker at 0x7f301c861cc0>,\n",
       " <folium.vector_layers.CircleMarker at 0x7f301c872630>,\n",
       " <folium.vector_layers.CircleMarker at 0x7f301c872eb8>,\n",
       " <folium.vector_layers.CircleMarker at 0x7f301c872470>,\n",
       " <folium.vector_layers.CircleMarker at 0x7f301c872588>,\n",
       " <folium.vector_layers.CircleMarker at 0x7f301c872b00>,\n",
       " <folium.vector_layers.CircleMarker at 0x7f301c872a20>,\n",
       " <folium.vector_layers.CircleMarker at 0x7f301c872ba8>,\n",
       " <folium.vector_layers.CircleMarker at 0x7f301c872c18>,\n",
       " <folium.vector_layers.CircleMarker at 0x7f301c8728d0>,\n",
       " <folium.vector_layers.CircleMarker at 0x7f301c886278>,\n",
       " <folium.vector_layers.CircleMarker at 0x7f301c886048>,\n",
       " <folium.vector_layers.CircleMarker at 0x7f301c886470>,\n",
       " <folium.vector_layers.CircleMarker at 0x7f301c8864a8>,\n",
       " <folium.vector_layers.CircleMarker at 0x7f301c886390>,\n",
       " <folium.vector_layers.CircleMarker at 0x7f301c886588>,\n",
       " <folium.vector_layers.CircleMarker at 0x7f301c886630>,\n",
       " <folium.vector_layers.CircleMarker at 0x7f301c8866d8>,\n",
       " <folium.vector_layers.CircleMarker at 0x7f301c886780>,\n",
       " <folium.vector_layers.CircleMarker at 0x7f301c872e10>,\n",
       " <folium.vector_layers.CircleMarker at 0x7f301c8724e0>,\n",
       " <folium.vector_layers.CircleMarker at 0x7f301c872198>,\n",
       " <folium.vector_layers.CircleMarker at 0x7f301c872978>,\n",
       " <folium.vector_layers.CircleMarker at 0x7f301c8cec18>,\n",
       " <folium.vector_layers.CircleMarker at 0x7f301c872e48>,\n",
       " <folium.vector_layers.CircleMarker at 0x7f301c872860>,\n",
       " <folium.vector_layers.CircleMarker at 0x7f301c861a20>,\n",
       " <folium.vector_layers.CircleMarker at 0x7f301c886828>,\n",
       " <folium.vector_layers.CircleMarker at 0x7f301c8866a0>,\n",
       " <folium.vector_layers.CircleMarker at 0x7f301c886550>,\n",
       " <folium.vector_layers.CircleMarker at 0x7f301c8861d0>,\n",
       " <folium.vector_layers.CircleMarker at 0x7f301c886400>,\n",
       " <folium.vector_layers.CircleMarker at 0x7f301c886320>,\n",
       " <folium.vector_layers.CircleMarker at 0x7f301c886710>,\n",
       " <folium.vector_layers.CircleMarker at 0x7f301c886940>,\n",
       " <folium.vector_layers.CircleMarker at 0x7f301c886978>,\n",
       " <folium.vector_layers.CircleMarker at 0x7f301c886a20>,\n",
       " <folium.vector_layers.CircleMarker at 0x7f301c886ac8>,\n",
       " <folium.vector_layers.CircleMarker at 0x7f301c886b70>,\n",
       " <folium.vector_layers.CircleMarker at 0x7f301c886c18>,\n",
       " <folium.vector_layers.CircleMarker at 0x7f301c886cc0>,\n",
       " <folium.vector_layers.CircleMarker at 0x7f301c861710>,\n",
       " <folium.vector_layers.CircleMarker at 0x7f301c872f60>,\n",
       " <folium.vector_layers.CircleMarker at 0x7f301c872668>,\n",
       " <folium.vector_layers.CircleMarker at 0x7f301c872320>,\n",
       " <folium.vector_layers.CircleMarker at 0x7f301c872048>,\n",
       " <folium.vector_layers.CircleMarker at 0x7f301c886b00>,\n",
       " <folium.vector_layers.CircleMarker at 0x7f301c886b38>,\n",
       " <folium.vector_layers.CircleMarker at 0x7f301c8869e8>,\n",
       " <folium.vector_layers.CircleMarker at 0x7f301c8860b8>,\n",
       " <folium.vector_layers.CircleMarker at 0x7f301c886860>,\n",
       " <folium.vector_layers.CircleMarker at 0x7f301c8864e0>,\n",
       " <folium.vector_layers.CircleMarker at 0x7f301c886518>,\n",
       " <folium.vector_layers.CircleMarker at 0x7f301c886748>,\n",
       " <folium.vector_layers.CircleMarker at 0x7f301c886d68>,\n",
       " <folium.vector_layers.CircleMarker at 0x7f301c886c50>,\n",
       " <folium.vector_layers.CircleMarker at 0x7f301c886e80>,\n",
       " <folium.vector_layers.CircleMarker at 0x7f301c886eb8>,\n",
       " <folium.vector_layers.CircleMarker at 0x7f301c886f60>,\n",
       " <folium.vector_layers.CircleMarker at 0x7f301c886ef0>,\n",
       " <folium.vector_layers.CircleMarker at 0x7f301c89a048>,\n",
       " <folium.vector_layers.CircleMarker at 0x7f301c89a128>,\n",
       " <folium.vector_layers.CircleMarker at 0x7f301c89a240>,\n",
       " <folium.vector_layers.CircleMarker at 0x7f301c886a58>,\n",
       " <folium.vector_layers.CircleMarker at 0x7f301c886f28>,\n",
       " <folium.vector_layers.CircleMarker at 0x7f301c886438>,\n",
       " <folium.vector_layers.CircleMarker at 0x7f301c886ba8>,\n",
       " <folium.vector_layers.CircleMarker at 0x7f301c886908>,\n",
       " <folium.vector_layers.CircleMarker at 0x7f301c886198>,\n",
       " <folium.vector_layers.CircleMarker at 0x7f301c8869b0>,\n",
       " <folium.vector_layers.CircleMarker at 0x7f301c886a90>,\n",
       " <folium.vector_layers.CircleMarker at 0x7f301c886d30>,\n",
       " <folium.vector_layers.CircleMarker at 0x7f301c886be0>,\n",
       " <folium.vector_layers.CircleMarker at 0x7f301c8cef98>,\n",
       " <folium.vector_layers.CircleMarker at 0x7f301c872cc0>,\n",
       " <folium.vector_layers.CircleMarker at 0x7f301c872da0>,\n",
       " <folium.vector_layers.CircleMarker at 0x7f301c8729b0>,\n",
       " <folium.vector_layers.CircleMarker at 0x7f301c861080>,\n",
       " <folium.vector_layers.CircleMarker at 0x7f301c861780>,\n",
       " <folium.vector_layers.CircleMarker at 0x7f301c861908>,\n",
       " <folium.vector_layers.CircleMarker at 0x7f301c89a0f0>,\n",
       " <folium.vector_layers.CircleMarker at 0x7f301c89a198>,\n",
       " <folium.vector_layers.CircleMarker at 0x7f301c89a400>,\n",
       " <folium.vector_layers.CircleMarker at 0x7f301c89a438>,\n",
       " <folium.vector_layers.CircleMarker at 0x7f301c89a4e0>,\n",
       " <folium.vector_layers.CircleMarker at 0x7f301c8cef28>,\n",
       " <folium.vector_layers.CircleMarker at 0x7f301c861940>,\n",
       " <folium.vector_layers.CircleMarker at 0x7f301c8724a8>,\n",
       " <folium.vector_layers.CircleMarker at 0x7f301c872908>,\n",
       " <folium.vector_layers.CircleMarker at 0x7f301c886668>,\n",
       " <folium.vector_layers.CircleMarker at 0x7f301c886c88>,\n",
       " <folium.vector_layers.CircleMarker at 0x7f301c8862e8>,\n",
       " <folium.vector_layers.CircleMarker at 0x7f301c886dd8>,\n",
       " <folium.vector_layers.CircleMarker at 0x7f301c8860f0>,\n",
       " <folium.vector_layers.CircleMarker at 0x7f301c886e10>,\n",
       " <folium.vector_layers.CircleMarker at 0x7f301c886898>,\n",
       " <folium.vector_layers.CircleMarker at 0x7f301c89a160>,\n",
       " <folium.vector_layers.CircleMarker at 0x7f301c89a358>,\n",
       " <folium.vector_layers.CircleMarker at 0x7f301c89a588>,\n",
       " <folium.vector_layers.CircleMarker at 0x7f301c89a470>,\n",
       " <folium.vector_layers.CircleMarker at 0x7f301c89a6a0>,\n",
       " <folium.vector_layers.CircleMarker at 0x7f301c89a6d8>,\n",
       " <folium.vector_layers.CircleMarker at 0x7f301c89a780>,\n",
       " <folium.vector_layers.CircleMarker at 0x7f301c89a828>,\n",
       " <folium.vector_layers.CircleMarker at 0x7f301c89a8d0>,\n",
       " <folium.vector_layers.CircleMarker at 0x7f301c89a978>,\n",
       " <folium.vector_layers.CircleMarker at 0x7f301c89aa20>,\n",
       " <folium.vector_layers.CircleMarker at 0x7f301c886160>,\n",
       " <folium.vector_layers.CircleMarker at 0x7f301c886080>,\n",
       " <folium.vector_layers.CircleMarker at 0x7f301c8868d0>,\n",
       " <folium.vector_layers.CircleMarker at 0x7f301c8723c8>,\n",
       " <folium.vector_layers.CircleMarker at 0x7f301c872cf8>,\n",
       " <folium.vector_layers.CircleMarker at 0x7f301c8615f8>,\n",
       " <folium.vector_layers.CircleMarker at 0x7f301c886fd0>,\n",
       " <folium.vector_layers.CircleMarker at 0x7f301c89a940>,\n",
       " <folium.vector_layers.CircleMarker at 0x7f301c89a7f0>,\n",
       " <folium.vector_layers.CircleMarker at 0x7f301c89a5f8>,\n",
       " <folium.vector_layers.CircleMarker at 0x7f301c89a668>,\n",
       " <folium.vector_layers.CircleMarker at 0x7f301c89a2e8>,\n",
       " <folium.vector_layers.CircleMarker at 0x7f301c89a3c8>,\n",
       " <folium.vector_layers.CircleMarker at 0x7f301c89aac8>,\n",
       " <folium.vector_layers.CircleMarker at 0x7f301c89a9b0>,\n",
       " <folium.vector_layers.CircleMarker at 0x7f301c89abe0>,\n",
       " <folium.vector_layers.CircleMarker at 0x7f301c89ac18>,\n",
       " <folium.vector_layers.CircleMarker at 0x7f301c89acc0>,\n",
       " <folium.vector_layers.CircleMarker at 0x7f301c89ad68>,\n",
       " <folium.vector_layers.CircleMarker at 0x7f301c89ae10>,\n",
       " <folium.vector_layers.CircleMarker at 0x7f301c89aeb8>,\n",
       " <folium.vector_layers.CircleMarker at 0x7f301c89af60>,\n",
       " <folium.vector_layers.CircleMarker at 0x7f301c861e48>,\n",
       " <folium.vector_layers.CircleMarker at 0x7f301c872c50>,\n",
       " <folium.vector_layers.CircleMarker at 0x7f301c886e48>,\n",
       " <folium.vector_layers.CircleMarker at 0x7f301c886da0>,\n",
       " <folium.vector_layers.CircleMarker at 0x7f301c89ada0>,\n",
       " <folium.vector_layers.CircleMarker at 0x7f301c89add8>,\n",
       " <folium.vector_layers.CircleMarker at 0x7f301c89ac88>,\n",
       " <folium.vector_layers.CircleMarker at 0x7f301c89a4a8>,\n",
       " <folium.vector_layers.CircleMarker at 0x7f301c89ab00>,\n",
       " <folium.vector_layers.CircleMarker at 0x7f301c89a1d0>,\n",
       " <folium.vector_layers.CircleMarker at 0x7f301c89a5c0>,\n",
       " <folium.vector_layers.CircleMarker at 0x7f301c89a7b8>,\n",
       " <folium.vector_layers.CircleMarker at 0x7f301c89a898>,\n",
       " <folium.vector_layers.CircleMarker at 0x7f301c89aef0>,\n",
       " <folium.vector_layers.CircleMarker at 0x7f301c89a9e8>,\n",
       " <folium.vector_layers.CircleMarker at 0x7f301c82f048>,\n",
       " <folium.vector_layers.CircleMarker at 0x7f301c82f128>,\n",
       " <folium.vector_layers.CircleMarker at 0x7f301c82f240>,\n",
       " <folium.vector_layers.CircleMarker at 0x7f301c82f2e8>,\n",
       " <folium.vector_layers.CircleMarker at 0x7f301c82f390>,\n",
       " <folium.vector_layers.CircleMarker at 0x7f301c82f438>,\n",
       " <folium.vector_layers.CircleMarker at 0x7f301c82f4e0>,\n",
       " <folium.vector_layers.CircleMarker at 0x7f301c89acf8>,\n",
       " <folium.vector_layers.CircleMarker at 0x7f301c89ae48>,\n",
       " <folium.vector_layers.CircleMarker at 0x7f301c89aba8>,\n",
       " <folium.vector_layers.CircleMarker at 0x7f301c89a908>,\n",
       " <folium.vector_layers.CircleMarker at 0x7f301c89ac50>,\n",
       " <folium.vector_layers.CircleMarker at 0x7f301c89ad30>,\n",
       " <folium.vector_layers.CircleMarker at 0x7f301c872ef0>,\n",
       " <folium.vector_layers.CircleMarker at 0x7f301c89a0b8>,\n",
       " <folium.vector_layers.CircleMarker at 0x7f301c8867f0>,\n",
       " <folium.vector_layers.CircleMarker at 0x7f301c8867b8>,\n",
       " <folium.vector_layers.CircleMarker at 0x7f301c82f400>,\n",
       " <folium.vector_layers.CircleMarker at 0x7f301c82f2b0>,\n",
       " <folium.vector_layers.CircleMarker at 0x7f301c82f0b8>,\n",
       " <folium.vector_layers.CircleMarker at 0x7f301c82f588>,\n",
       " <folium.vector_layers.CircleMarker at 0x7f301c82f470>,\n",
       " <folium.vector_layers.CircleMarker at 0x7f301c82f6a0>,\n",
       " <folium.vector_layers.CircleMarker at 0x7f301c82f6d8>,\n",
       " <folium.vector_layers.CircleMarker at 0x7f301c82f780>,\n",
       " <folium.vector_layers.CircleMarker at 0x7f301c82f828>,\n",
       " <folium.vector_layers.CircleMarker at 0x7f301c82f8d0>,\n",
       " <folium.vector_layers.CircleMarker at 0x7f301c82f978>,\n",
       " <folium.vector_layers.CircleMarker at 0x7f301c82fa20>,\n",
       " <folium.vector_layers.CircleMarker at 0x7f301c872b70>,\n",
       " <folium.vector_layers.CircleMarker at 0x7f301c8863c8>,\n",
       " <folium.vector_layers.CircleMarker at 0x7f301c89af28>,\n",
       " <folium.vector_layers.CircleMarker at 0x7f301c89af98>,\n",
       " <folium.vector_layers.CircleMarker at 0x7f301c89a518>,\n",
       " <folium.vector_layers.CircleMarker at 0x7f301c89ab38>,\n",
       " <folium.vector_layers.CircleMarker at 0x7f301c82f860>,\n",
       " <folium.vector_layers.CircleMarker at 0x7f301c82f898>,\n",
       " <folium.vector_layers.CircleMarker at 0x7f301c82f748>,\n",
       " <folium.vector_layers.CircleMarker at 0x7f301c82f080>,\n",
       " <folium.vector_layers.CircleMarker at 0x7f301c82f5c0>,\n",
       " <folium.vector_layers.CircleMarker at 0x7f301c82f278>,\n",
       " <folium.vector_layers.CircleMarker at 0x7f301c82f358>,\n",
       " <folium.vector_layers.CircleMarker at 0x7f301c82fac8>,\n",
       " <folium.vector_layers.CircleMarker at 0x7f301c82f9b0>,\n",
       " <folium.vector_layers.CircleMarker at 0x7f301c82fbe0>,\n",
       " <folium.vector_layers.CircleMarker at 0x7f301c82fc18>,\n",
       " <folium.vector_layers.CircleMarker at 0x7f301c82fcc0>,\n",
       " <folium.vector_layers.CircleMarker at 0x7f301c82fd68>,\n",
       " <folium.vector_layers.CircleMarker at 0x7f301c82fe10>,\n",
       " <folium.vector_layers.CircleMarker at 0x7f301c82feb8>,\n",
       " <folium.vector_layers.CircleMarker at 0x7f301c89a630>,\n",
       " <folium.vector_layers.CircleMarker at 0x7f301c89a748>,\n",
       " <folium.vector_layers.CircleMarker at 0x7f301c886240>,\n",
       " <folium.vector_layers.CircleMarker at 0x7f301c89ae80>,\n",
       " <folium.vector_layers.CircleMarker at 0x7f301c89a320>,\n",
       " <folium.vector_layers.CircleMarker at 0x7f301c82fc50>,\n",
       " <folium.vector_layers.CircleMarker at 0x7f301c82fb70>,\n",
       " <folium.vector_layers.CircleMarker at 0x7f301c82f320>,\n",
       " <folium.vector_layers.CircleMarker at 0x7f301c82f1d0>,\n",
       " <folium.vector_layers.CircleMarker at 0x7f301c82f908>,\n",
       " <folium.vector_layers.CircleMarker at 0x7f301c82f5f8>,\n",
       " <folium.vector_layers.CircleMarker at 0x7f301c82f208>,\n",
       " <folium.vector_layers.CircleMarker at 0x7f301c82f630>,\n",
       " <folium.vector_layers.CircleMarker at 0x7f301c82f9e8>,\n",
       " <folium.vector_layers.CircleMarker at 0x7f301c82fe48>,\n",
       " <folium.vector_layers.CircleMarker at 0x7f301c82fa90>,\n",
       " <folium.vector_layers.CircleMarker at 0x7f301c842048>,\n",
       " <folium.vector_layers.CircleMarker at 0x7f301c842160>,\n",
       " <folium.vector_layers.CircleMarker at 0x7f301c842240>,\n",
       " <folium.vector_layers.CircleMarker at 0x7f301c8422e8>,\n",
       " <folium.vector_layers.CircleMarker at 0x7f301c842390>,\n",
       " <folium.vector_layers.CircleMarker at 0x7f301c842438>,\n",
       " <folium.vector_layers.CircleMarker at 0x7f301c82ffd0>,\n",
       " <folium.vector_layers.CircleMarker at 0x7f301c82ff98>,\n",
       " <folium.vector_layers.CircleMarker at 0x7f301c82fb00>,\n",
       " <folium.vector_layers.CircleMarker at 0x7f301c82f0f0>,\n",
       " <folium.vector_layers.CircleMarker at 0x7f301c82fdd8>,\n",
       " <folium.vector_layers.CircleMarker at 0x7f301c82fb38>,\n",
       " <folium.vector_layers.CircleMarker at 0x7f301c8865c0>,\n",
       " <folium.vector_layers.CircleMarker at 0x7f301c82fba8>,\n",
       " <folium.vector_layers.CircleMarker at 0x7f301c82fd30>,\n",
       " <folium.vector_layers.CircleMarker at 0x7f301c89aa58>,\n",
       " <folium.vector_layers.CircleMarker at 0x7f301c89ab70>,\n",
       " <folium.vector_layers.CircleMarker at 0x7f301c842128>,\n",
       " <folium.vector_layers.CircleMarker at 0x7f301c8420f0>,\n",
       " <folium.vector_layers.CircleMarker at 0x7f301c8424e0>,\n",
       " <folium.vector_layers.CircleMarker at 0x7f301c8423c8>,\n",
       " <folium.vector_layers.CircleMarker at 0x7f301c8425f8>,\n",
       " <folium.vector_layers.CircleMarker at 0x7f301c842630>,\n",
       " <folium.vector_layers.CircleMarker at 0x7f301c8426d8>,\n",
       " <folium.vector_layers.CircleMarker at 0x7f301c842780>,\n",
       " <folium.vector_layers.CircleMarker at 0x7f301c842828>,\n",
       " <folium.vector_layers.CircleMarker at 0x7f301c8428d0>,\n",
       " <folium.vector_layers.CircleMarker at 0x7f301c842978>,\n",
       " <folium.vector_layers.CircleMarker at 0x7f301c8865f8>,\n",
       " <folium.vector_layers.CircleMarker at 0x7f301c89a710>,\n",
       " <folium.vector_layers.CircleMarker at 0x7f301c82fc88>,\n",
       " <folium.vector_layers.CircleMarker at 0x7f301c82f198>,\n",
       " <folium.vector_layers.CircleMarker at 0x7f301c82f668>,\n",
       " <folium.vector_layers.CircleMarker at 0x7f301c82f7f0>,\n",
       " <folium.vector_layers.CircleMarker at 0x7f301c82f7b8>,\n",
       " <folium.vector_layers.CircleMarker at 0x7f301c842668>,\n",
       " <folium.vector_layers.CircleMarker at 0x7f301c842588>,\n",
       " <folium.vector_layers.CircleMarker at 0x7f301c8420b8>,\n",
       " <folium.vector_layers.CircleMarker at 0x7f301c8422b0>,\n",
       " <folium.vector_layers.CircleMarker at 0x7f301c842320>,\n",
       " <folium.vector_layers.CircleMarker at 0x7f301c842198>,\n",
       " <folium.vector_layers.CircleMarker at 0x7f301c842a20>,\n",
       " <folium.vector_layers.CircleMarker at 0x7f301c842908>,\n",
       " <folium.vector_layers.CircleMarker at 0x7f301c842b38>,\n",
       " <folium.vector_layers.CircleMarker at 0x7f301c842b70>,\n",
       " <folium.vector_layers.CircleMarker at 0x7f301c842c18>,\n",
       " <folium.vector_layers.CircleMarker at 0x7f301c842cc0>,\n",
       " <folium.vector_layers.CircleMarker at 0x7f301c842d68>,\n",
       " <folium.vector_layers.CircleMarker at 0x7f301c842e10>,\n",
       " <folium.vector_layers.CircleMarker at 0x7f301c842eb8>,\n",
       " <folium.vector_layers.CircleMarker at 0x7f301c89a390>,\n",
       " <folium.vector_layers.CircleMarker at 0x7f301c82f518>,\n",
       " <folium.vector_layers.CircleMarker at 0x7f301c82f3c8>,\n",
       " <folium.vector_layers.CircleMarker at 0x7f301c82f4a8>,\n",
       " <folium.vector_layers.CircleMarker at 0x7f301c842dd8>,\n",
       " <folium.vector_layers.CircleMarker at 0x7f301c842c88>,\n",
       " <folium.vector_layers.CircleMarker at 0x7f301c842a90>,\n",
       " <folium.vector_layers.CircleMarker at 0x7f301c842b00>,\n",
       " <folium.vector_layers.CircleMarker at 0x7f301c842518>,\n",
       " <folium.vector_layers.CircleMarker at 0x7f301c842208>,\n",
       " <folium.vector_layers.CircleMarker at 0x7f301c8427f0>,\n",
       " <folium.vector_layers.CircleMarker at 0x7f301c842550>,\n",
       " <folium.vector_layers.CircleMarker at 0x7f301c842710>,\n",
       " <folium.vector_layers.CircleMarker at 0x7f301c842f60>,\n",
       " <folium.vector_layers.CircleMarker at 0x7f301c842e48>,\n",
       " <folium.vector_layers.CircleMarker at 0x7f301c842fd0>,\n",
       " <folium.vector_layers.CircleMarker at 0x7f301c855048>,\n",
       " <folium.vector_layers.CircleMarker at 0x7f301c855128>,\n",
       " <folium.vector_layers.CircleMarker at 0x7f301c855240>,\n",
       " <folium.vector_layers.CircleMarker at 0x7f301c8552e8>,\n",
       " <folium.vector_layers.CircleMarker at 0x7f301c855390>,\n",
       " <folium.vector_layers.CircleMarker at 0x7f301c855438>,\n",
       " <folium.vector_layers.CircleMarker at 0x7f301c842cf8>,\n",
       " <folium.vector_layers.CircleMarker at 0x7f301c842f98>,\n",
       " <folium.vector_layers.CircleMarker at 0x7f301c842860>,\n",
       " <folium.vector_layers.CircleMarker at 0x7f301c842358>,\n",
       " <folium.vector_layers.CircleMarker at 0x7f301c842ac8>,\n",
       " <folium.vector_layers.CircleMarker at 0x7f301c842278>,\n",
       " <folium.vector_layers.CircleMarker at 0x7f301c8429b0>,\n",
       " <folium.vector_layers.CircleMarker at 0x7f301c89a208>,\n",
       " <folium.vector_layers.CircleMarker at 0x7f301c842d30>,\n",
       " <folium.vector_layers.CircleMarker at 0x7f301c82fe80>,\n",
       " <folium.vector_layers.CircleMarker at 0x7f301c82fa58>,\n",
       " <folium.vector_layers.CircleMarker at 0x7f301c8550b8>,\n",
       " <folium.vector_layers.CircleMarker at 0x7f301c8550f0>,\n",
       " <folium.vector_layers.CircleMarker at 0x7f301c8554e0>,\n",
       " <folium.vector_layers.CircleMarker at 0x7f301c8553c8>,\n",
       " <folium.vector_layers.CircleMarker at 0x7f301c8555f8>,\n",
       " <folium.vector_layers.CircleMarker at 0x7f301c855630>,\n",
       " <folium.vector_layers.CircleMarker at 0x7f301c8556d8>,\n",
       " <folium.vector_layers.CircleMarker at 0x7f301c855780>,\n",
       " <folium.vector_layers.CircleMarker at 0x7f301c855828>,\n",
       " <folium.vector_layers.CircleMarker at 0x7f301c8558d0>,\n",
       " <folium.vector_layers.CircleMarker at 0x7f301c82ff60>,\n",
       " <folium.vector_layers.CircleMarker at 0x7f301c82fcf8>,\n",
       " <folium.vector_layers.CircleMarker at 0x7f301c842e80>,\n",
       " <folium.vector_layers.CircleMarker at 0x7f301c8425c0>,\n",
       " <folium.vector_layers.CircleMarker at 0x7f301c8421d0>,\n",
       " <folium.vector_layers.CircleMarker at 0x7f301c842748>,\n",
       " <folium.vector_layers.CircleMarker at 0x7f301c8426a0>,\n",
       " <folium.vector_layers.CircleMarker at 0x7f301c855710>,\n",
       " <folium.vector_layers.CircleMarker at 0x7f301c855748>,\n",
       " <folium.vector_layers.CircleMarker at 0x7f301c855208>,\n",
       " <folium.vector_layers.CircleMarker at 0x7f301c8552b0>,\n",
       " <folium.vector_layers.CircleMarker at 0x7f301c855320>,\n",
       " <folium.vector_layers.CircleMarker at 0x7f301c855160>,\n",
       " <folium.vector_layers.CircleMarker at 0x7f301c855978>,\n",
       " <folium.vector_layers.CircleMarker at 0x7f301c855860>,\n",
       " <folium.vector_layers.CircleMarker at 0x7f301c855a90>,\n",
       " <folium.vector_layers.CircleMarker at 0x7f301c855ac8>,\n",
       " <folium.vector_layers.CircleMarker at 0x7f301c855b70>,\n",
       " <folium.vector_layers.CircleMarker at 0x7f301c855c18>,\n",
       " <folium.vector_layers.CircleMarker at 0x7f301c855cc0>,\n",
       " <folium.vector_layers.CircleMarker at 0x7f301c855d68>,\n",
       " <folium.vector_layers.CircleMarker at 0x7f301c855e10>,\n",
       " <folium.vector_layers.CircleMarker at 0x7f301c842400>,\n",
       " <folium.vector_layers.CircleMarker at 0x7f301c842da0>,\n",
       " <folium.vector_layers.CircleMarker at 0x7f301c842c50>,\n",
       " <folium.vector_layers.CircleMarker at 0x7f301c8429e8>,\n",
       " <folium.vector_layers.CircleMarker at 0x7f301c842470>,\n",
       " <folium.vector_layers.CircleMarker at 0x7f301c886cf8>,\n",
       " <folium.vector_layers.CircleMarker at 0x7f301c82fda0>,\n",
       " <folium.vector_layers.CircleMarker at 0x7f301c82fef0>,\n",
       " <folium.vector_layers.CircleMarker at 0x7f301c89aa90>,\n",
       " <folium.vector_layers.CircleMarker at 0x7f301c89afd0>,\n",
       " <folium.vector_layers.CircleMarker at 0x7f301c855d30>,\n",
       " <folium.vector_layers.CircleMarker at 0x7f301c855be0>,\n",
       " <folium.vector_layers.CircleMarker at 0x7f301c8559e8>,\n",
       " <folium.vector_layers.CircleMarker at 0x7f301c855a58>,\n",
       " <folium.vector_layers.CircleMarker at 0x7f301c855518>,\n",
       " <folium.vector_layers.CircleMarker at 0x7f301c8551d0>,\n",
       " <folium.vector_layers.CircleMarker at 0x7f301c855470>,\n",
       " <folium.vector_layers.CircleMarker at 0x7f301c8556a0>,\n",
       " <folium.vector_layers.CircleMarker at 0x7f301c855940>,\n",
       " <folium.vector_layers.CircleMarker at 0x7f301c855eb8>,\n",
       " <folium.vector_layers.CircleMarker at 0x7f301c855da0>,\n",
       " <folium.vector_layers.CircleMarker at 0x7f301c855fd0>,\n",
       " <folium.vector_layers.CircleMarker at 0x7f301c861e10>,\n",
       " <folium.vector_layers.CircleMarker at 0x7f301c89a860>,\n",
       " <folium.vector_layers.CircleMarker at 0x7f301c82ff28>,\n",
       " <folium.vector_layers.CircleMarker at 0x7f301c82f710>,\n",
       " <folium.vector_layers.CircleMarker at 0x7f301c842f28>,\n",
       " <folium.vector_layers.CircleMarker at 0x7f301c842080>,\n",
       " <folium.vector_layers.CircleMarker at 0x7f301c842ef0>,\n",
       " <folium.vector_layers.CircleMarker at 0x7f301c8557f0>,\n",
       " <folium.vector_layers.CircleMarker at 0x7f301c855588>,\n",
       " <folium.vector_layers.CircleMarker at 0x7f301c855550>,\n",
       " <folium.vector_layers.CircleMarker at 0x7f301c855400>,\n",
       " <folium.vector_layers.CircleMarker at 0x7f301c8559b0>,\n",
       " <folium.vector_layers.CircleMarker at 0x7f301c855ba8>,\n",
       " <folium.vector_layers.CircleMarker at 0x7f301c855c88>,\n",
       " <folium.vector_layers.CircleMarker at 0x7f301c855b38>,\n",
       " <folium.vector_layers.CircleMarker at 0x7f301c7e9048>,\n",
       " <folium.vector_layers.CircleMarker at 0x7f301c7e9128>,\n",
       " <folium.vector_layers.CircleMarker at 0x7f301c7e9240>,\n",
       " <folium.vector_layers.CircleMarker at 0x7f301c7e92e8>,\n",
       " <folium.vector_layers.CircleMarker at 0x7f301c7e9390>,\n",
       " <folium.vector_layers.CircleMarker at 0x7f301c7e9438>,\n",
       " <folium.vector_layers.CircleMarker at 0x7f301c7e94e0>,\n",
       " <folium.vector_layers.CircleMarker at 0x7f301c855c50>,\n",
       " <folium.vector_layers.CircleMarker at 0x7f301c855908>,\n",
       " <folium.vector_layers.CircleMarker at 0x7f301c855ef0>,\n",
       " <folium.vector_layers.CircleMarker at 0x7f301c8554a8>,\n",
       " <folium.vector_layers.CircleMarker at 0x7f301c8557b8>,\n",
       " <folium.vector_layers.CircleMarker at 0x7f301c855cf8>,\n",
       " <folium.vector_layers.CircleMarker at 0x7f301c82f160>,\n",
       " <folium.vector_layers.CircleMarker at 0x7f301c89a080>,\n",
       " <folium.vector_layers.CircleMarker at 0x7f301c842940>,\n",
       " <folium.vector_layers.CircleMarker at 0x7f301c842ba8>,\n",
       " <folium.vector_layers.CircleMarker at 0x7f301c7e9400>,\n",
       " <folium.vector_layers.CircleMarker at 0x7f301c7e92b0>,\n",
       " <folium.vector_layers.CircleMarker at 0x7f301c7e90b8>,\n",
       " <folium.vector_layers.CircleMarker at 0x7f301c7e9588>,\n",
       " <folium.vector_layers.CircleMarker at 0x7f301c7e9470>,\n",
       " <folium.vector_layers.CircleMarker at 0x7f301c7e96a0>,\n",
       " <folium.vector_layers.CircleMarker at 0x7f301c7e96d8>,\n",
       " <folium.vector_layers.CircleMarker at 0x7f301c7e9780>,\n",
       " <folium.vector_layers.CircleMarker at 0x7f301c7e9828>,\n",
       " <folium.vector_layers.CircleMarker at 0x7f301c7e98d0>,\n",
       " <folium.vector_layers.CircleMarker at 0x7f301c7e9978>,\n",
       " <folium.vector_layers.CircleMarker at 0x7f301c7e9a20>,\n",
       " <folium.vector_layers.CircleMarker at 0x7f301c89a550>,\n",
       " <folium.vector_layers.CircleMarker at 0x7f301c842898>,\n",
       " <folium.vector_layers.CircleMarker at 0x7f301c82f550>,\n",
       " <folium.vector_layers.CircleMarker at 0x7f301c8555c0>,\n",
       " <folium.vector_layers.CircleMarker at 0x7f301c855278>,\n",
       " <folium.vector_layers.CircleMarker at 0x7f301c855e48>,\n",
       " <folium.vector_layers.CircleMarker at 0x7f301c7e9860>,\n",
       " <folium.vector_layers.CircleMarker at 0x7f301c7e9898>,\n",
       " <folium.vector_layers.CircleMarker at 0x7f301c7e9748>,\n",
       " <folium.vector_layers.CircleMarker at 0x7f301c7e9080>,\n",
       " <folium.vector_layers.CircleMarker at 0x7f301c7e95c0>,\n",
       " <folium.vector_layers.CircleMarker at 0x7f301c7e9278>,\n",
       " <folium.vector_layers.CircleMarker at 0x7f301c7e9358>,\n",
       " <folium.vector_layers.CircleMarker at 0x7f301c7e9ac8>,\n",
       " <folium.vector_layers.CircleMarker at 0x7f301c7e99b0>,\n",
       " <folium.vector_layers.CircleMarker at 0x7f301c7e9be0>,\n",
       " <folium.vector_layers.CircleMarker at 0x7f301c7e9c18>,\n",
       " <folium.vector_layers.CircleMarker at 0x7f301c7e9cc0>,\n",
       " <folium.vector_layers.CircleMarker at 0x7f301c7e9d68>,\n",
       " <folium.vector_layers.CircleMarker at 0x7f301c7e9e10>,\n",
       " <folium.vector_layers.CircleMarker at 0x7f301c7e9eb8>,\n",
       " <folium.vector_layers.CircleMarker at 0x7f301c7e9f60>,\n",
       " <folium.vector_layers.CircleMarker at 0x7f301c82f940>,\n",
       " <folium.vector_layers.CircleMarker at 0x7f301c842be0>,\n",
       " <folium.vector_layers.CircleMarker at 0x7f301c855898>,\n",
       " <folium.vector_layers.CircleMarker at 0x7f301c855f60>,\n",
       " <folium.vector_layers.CircleMarker at 0x7f301c7e9e80>,\n",
       " <folium.vector_layers.CircleMarker at 0x7f301c7e9d30>,\n",
       " <folium.vector_layers.CircleMarker at 0x7f301c7e9b38>,\n",
       " <folium.vector_layers.CircleMarker at 0x7f301c7e9ba8>,\n",
       " <folium.vector_layers.CircleMarker at 0x7f301c7e9198>,\n",
       " <folium.vector_layers.CircleMarker at 0x7f301c7e90f0>,\n",
       " <folium.vector_layers.CircleMarker at 0x7f301c7e9518>,\n",
       " <folium.vector_layers.CircleMarker at 0x7f301c7e9160>,\n",
       " <folium.vector_layers.CircleMarker at 0x7f301c7e9940>,\n",
       " <folium.vector_layers.CircleMarker at 0x7f301c7e9ef0>,\n",
       " <folium.vector_layers.CircleMarker at 0x7f301c7e99e8>,\n",
       " <folium.vector_layers.CircleMarker at 0x7f301c7fd048>,\n",
       " <folium.vector_layers.CircleMarker at 0x7f301c7fd128>,\n",
       " <folium.vector_layers.CircleMarker at 0x7f301c7fd240>,\n",
       " <folium.vector_layers.CircleMarker at 0x7f301c7fd2e8>,\n",
       " <folium.vector_layers.CircleMarker at 0x7f301c7fd390>,\n",
       " <folium.vector_layers.CircleMarker at 0x7f301c7fd438>,\n",
       " <folium.vector_layers.CircleMarker at 0x7f301c7fd4e0>,\n",
       " <folium.vector_layers.CircleMarker at 0x7f301c7e9da0>,\n",
       " <folium.vector_layers.CircleMarker at 0x7f301c7e9e48>,\n",
       " <folium.vector_layers.CircleMarker at 0x7f301c7e91d0>,\n",
       " <folium.vector_layers.CircleMarker at 0x7f301c7e9668>,\n",
       " <folium.vector_layers.CircleMarker at 0x7f301c8424a8>,\n",
       " <folium.vector_layers.CircleMarker at 0x7f301c7e9cf8>,\n",
       " <folium.vector_layers.CircleMarker at 0x7f301c7e9a58>,\n",
       " <folium.vector_layers.CircleMarker at 0x7f301c855358>,\n",
       " <folium.vector_layers.CircleMarker at 0x7f301c855198>,\n",
       " <folium.vector_layers.CircleMarker at 0x7f301c7e9b70>,\n",
       " <folium.vector_layers.CircleMarker at 0x7f301c7fd400>,\n",
       " <folium.vector_layers.CircleMarker at 0x7f301c7fd2b0>,\n",
       " <folium.vector_layers.CircleMarker at 0x7f301c7fd0b8>,\n",
       " <folium.vector_layers.CircleMarker at 0x7f301c7fd588>,\n",
       " <folium.vector_layers.CircleMarker at 0x7f301c7fd470>,\n",
       " <folium.vector_layers.CircleMarker at 0x7f301c7fd6a0>,\n",
       " <folium.vector_layers.CircleMarker at 0x7f301c7fd6d8>,\n",
       " <folium.vector_layers.CircleMarker at 0x7f301c7fd780>,\n",
       " <folium.vector_layers.CircleMarker at 0x7f301c7fd828>,\n",
       " <folium.vector_layers.CircleMarker at 0x7f301c7fd8d0>,\n",
       " <folium.vector_layers.CircleMarker at 0x7f301c7fd978>,\n",
       " <folium.vector_layers.CircleMarker at 0x7f301c7fda20>,\n",
       " <folium.vector_layers.CircleMarker at 0x7f301c855a20>,\n",
       " <folium.vector_layers.CircleMarker at 0x7f301c7e9c88>,\n",
       " <folium.vector_layers.CircleMarker at 0x7f301c7e9dd8>,\n",
       " <folium.vector_layers.CircleMarker at 0x7f301c7e9f98>,\n",
       " <folium.vector_layers.CircleMarker at 0x7f301c7e97f0>,\n",
       " <folium.vector_layers.CircleMarker at 0x7f301c7e97b8>,\n",
       " <folium.vector_layers.CircleMarker at 0x7f301c7e9320>,\n",
       " <folium.vector_layers.CircleMarker at 0x7f301c7fd710>,\n",
       " <folium.vector_layers.CircleMarker at 0x7f301c7fd630>,\n",
       " <folium.vector_layers.CircleMarker at 0x7f301c7fd160>,\n",
       " <folium.vector_layers.CircleMarker at 0x7f301c7fd208>,\n",
       " <folium.vector_layers.CircleMarker at 0x7f301c7fd3c8>,\n",
       " <folium.vector_layers.CircleMarker at 0x7f301c7fd0f0>,\n",
       " <folium.vector_layers.CircleMarker at 0x7f301c7fd550>,\n",
       " <folium.vector_layers.CircleMarker at 0x7f301c7fdb38>,\n",
       " <folium.vector_layers.CircleMarker at 0x7f301c7fdb70>,\n",
       " <folium.vector_layers.CircleMarker at 0x7f301c7fda58>,\n",
       " <folium.vector_layers.CircleMarker at 0x7f301c7fdc50>,\n",
       " <folium.vector_layers.CircleMarker at 0x7f301c7fdcf8>,\n",
       " <folium.vector_layers.CircleMarker at 0x7f301c7fdda0>,\n",
       " <folium.vector_layers.CircleMarker at 0x7f301c7fde48>,\n",
       " <folium.vector_layers.CircleMarker at 0x7f301c7e93c8>,\n",
       " <folium.vector_layers.CircleMarker at 0x7f301c842a58>,\n",
       " <folium.vector_layers.CircleMarker at 0x7f301c855b00>,\n",
       " <folium.vector_layers.CircleMarker at 0x7f301c7e9710>,\n",
       " <folium.vector_layers.CircleMarker at 0x7f301c7e95f8>,\n",
       " <folium.vector_layers.CircleMarker at 0x7f301c7fd320>,\n",
       " <folium.vector_layers.CircleMarker at 0x7f301c7fdb00>,\n",
       " <folium.vector_layers.CircleMarker at 0x7f301c7fdbe0>,\n",
       " <folium.vector_layers.CircleMarker at 0x7f301c7fd278>,\n",
       " <folium.vector_layers.CircleMarker at 0x7f301c7fd4a8>,\n",
       " <folium.vector_layers.CircleMarker at 0x7f301c7fd748>,\n",
       " <folium.vector_layers.CircleMarker at 0x7f301c7fd668>,\n",
       " <folium.vector_layers.CircleMarker at 0x7f301c7fd7f0>,\n",
       " <folium.vector_layers.CircleMarker at 0x7f301c7fd860>,\n",
       " <folium.vector_layers.CircleMarker at 0x7f301c7fddd8>,\n",
       " <folium.vector_layers.CircleMarker at 0x7f301c7fde80>,\n",
       " <folium.vector_layers.CircleMarker at 0x7f301c7fdf98>,\n",
       " <folium.vector_layers.CircleMarker at 0x7f301c8120b8>,\n",
       " <folium.vector_layers.CircleMarker at 0x7f301c8121d0>,\n",
       " <folium.vector_layers.CircleMarker at 0x7f301c812278>,\n",
       " <folium.vector_layers.CircleMarker at 0x7f301c812320>,\n",
       " <folium.vector_layers.CircleMarker at 0x7f301c8123c8>,\n",
       " <folium.vector_layers.CircleMarker at 0x7f301c7fdf60>,\n",
       " <folium.vector_layers.CircleMarker at 0x7f301c7fd940>,\n",
       " <folium.vector_layers.CircleMarker at 0x7f301c7fd5f8>,\n",
       " <folium.vector_layers.CircleMarker at 0x7f301c7fd358>,\n",
       " <folium.vector_layers.CircleMarker at 0x7f301c7fd5c0>,\n",
       " <folium.vector_layers.CircleMarker at 0x7f301c855f98>,\n",
       " <folium.vector_layers.CircleMarker at 0x7f301c7fd1d0>,\n",
       " <folium.vector_layers.CircleMarker at 0x7f301c7fdd68>,\n",
       " <folium.vector_layers.CircleMarker at 0x7f301c7fd908>,\n",
       " <folium.vector_layers.CircleMarker at 0x7f301c7e9630>,\n",
       " <folium.vector_layers.CircleMarker at 0x7f301c7e9908>,\n",
       " <folium.vector_layers.CircleMarker at 0x7f301c8122e8>,\n",
       " <folium.vector_layers.CircleMarker at 0x7f301c812128>,\n",
       " <folium.vector_layers.CircleMarker at 0x7f301c812470>,\n",
       " <folium.vector_layers.CircleMarker at 0x7f301c812358>,\n",
       " <folium.vector_layers.CircleMarker at 0x7f301c812588>,\n",
       " <folium.vector_layers.CircleMarker at 0x7f301c8125c0>,\n",
       " <folium.vector_layers.CircleMarker at 0x7f301c812668>,\n",
       " <folium.vector_layers.CircleMarker at 0x7f301c812710>,\n",
       " <folium.vector_layers.CircleMarker at 0x7f301c8127b8>,\n",
       " <folium.vector_layers.CircleMarker at 0x7f301c812860>,\n",
       " <folium.vector_layers.CircleMarker at 0x7f301c812908>,\n",
       " <folium.vector_layers.CircleMarker at 0x7f301c7e9208>,\n",
       " <folium.vector_layers.CircleMarker at 0x7f301c7e94a8>,\n",
       " <folium.vector_layers.CircleMarker at 0x7f301c7fdba8>,\n",
       " <folium.vector_layers.CircleMarker at 0x7f301c7fdf28>,\n",
       " <folium.vector_layers.CircleMarker at 0x7f301c7fd898>,\n",
       " <folium.vector_layers.CircleMarker at 0x7f301c7fdfd0>,\n",
       " <folium.vector_layers.CircleMarker at 0x7f301c7fd7b8>,\n",
       " <folium.vector_layers.CircleMarker at 0x7f301c812828>,\n",
       " <folium.vector_layers.CircleMarker at 0x7f301c8126d8>,\n",
       " <folium.vector_layers.CircleMarker at 0x7f301c8124e0>,\n",
       " <folium.vector_layers.CircleMarker at 0x7f301c812550>,\n",
       " <folium.vector_layers.CircleMarker at 0x7f301c8120f0>,\n",
       " <folium.vector_layers.CircleMarker at 0x7f301c812240>,\n",
       " <folium.vector_layers.CircleMarker at 0x7f301c8129b0>,\n",
       " <folium.vector_layers.CircleMarker at 0x7f301c812898>,\n",
       " <folium.vector_layers.CircleMarker at 0x7f301c812ac8>,\n",
       " <folium.vector_layers.CircleMarker at 0x7f301c812b00>,\n",
       " <folium.vector_layers.CircleMarker at 0x7f301c812ba8>,\n",
       " <folium.vector_layers.CircleMarker at 0x7f301c812c50>,\n",
       " <folium.vector_layers.CircleMarker at 0x7f301c812cf8>,\n",
       " <folium.vector_layers.CircleMarker at 0x7f301c812da0>,\n",
       " <folium.vector_layers.CircleMarker at 0x7f301c812e48>,\n",
       " <folium.vector_layers.CircleMarker at 0x7f301c7e9b00>,\n",
       " <folium.vector_layers.CircleMarker at 0x7f301c7fdc18>,\n",
       " <folium.vector_layers.CircleMarker at 0x7f301c7fd518>,\n",
       " <folium.vector_layers.CircleMarker at 0x7f301c7fdc88>,\n",
       " <folium.vector_layers.CircleMarker at 0x7f301c812c88>,\n",
       " <folium.vector_layers.CircleMarker at 0x7f301c812cc0>,\n",
       " <folium.vector_layers.CircleMarker at 0x7f301c812b70>,\n",
       " <folium.vector_layers.CircleMarker at 0x7f301c812390>,\n",
       " <folium.vector_layers.CircleMarker at 0x7f301c8129e8>,\n",
       " <folium.vector_layers.CircleMarker at 0x7f301c812198>,\n",
       " <folium.vector_layers.CircleMarker at 0x7f301c8124a8>,\n",
       " <folium.vector_layers.CircleMarker at 0x7f301c8126a0>,\n",
       " <folium.vector_layers.CircleMarker at 0x7f301c812780>,\n",
       " <folium.vector_layers.CircleMarker at 0x7f301c812ef0>,\n",
       " <folium.vector_layers.CircleMarker at 0x7f301c812dd8>,\n",
       " <folium.vector_layers.CircleMarker at 0x7f301c812e80>,\n",
       " <folium.vector_layers.CircleMarker at 0x7f301c812f98>,\n",
       " <folium.vector_layers.CircleMarker at 0x7f301c7a40f0>,\n",
       " <folium.vector_layers.CircleMarker at 0x7f301c7a41d0>,\n",
       " <folium.vector_layers.CircleMarker at 0x7f301c7a4278>,\n",
       " <folium.vector_layers.CircleMarker at 0x7f301c7a4320>,\n",
       " <folium.vector_layers.CircleMarker at 0x7f301c7a43c8>,\n",
       " <folium.vector_layers.CircleMarker at 0x7f301c812be0>,\n",
       " <folium.vector_layers.CircleMarker at 0x7f301c812630>,\n",
       " <folium.vector_layers.CircleMarker at 0x7f301c812400>,\n",
       " <folium.vector_layers.CircleMarker at 0x7f301c812a90>,\n",
       " <folium.vector_layers.CircleMarker at 0x7f301c8127f0>,\n",
       " <folium.vector_layers.CircleMarker at 0x7f301c812b38>,\n",
       " <folium.vector_layers.CircleMarker at 0x7f301c812c18>,\n",
       " <folium.vector_layers.CircleMarker at 0x7f301c7e9c50>,\n",
       " <folium.vector_layers.CircleMarker at 0x7f301c812d68>,\n",
       " <folium.vector_layers.CircleMarker at 0x7f301c7fdef0>,\n",
       " <folium.vector_layers.CircleMarker at 0x7f301c7fd080>,\n",
       " <folium.vector_layers.CircleMarker at 0x7f301c7a42e8>,\n",
       " <folium.vector_layers.CircleMarker at 0x7f301c7a4160>,\n",
       " <folium.vector_layers.CircleMarker at 0x7f301c7a4470>,\n",
       " <folium.vector_layers.CircleMarker at 0x7f301c7a4358>,\n",
       " <folium.vector_layers.CircleMarker at 0x7f301c7a4588>,\n",
       " <folium.vector_layers.CircleMarker at 0x7f301c7a45c0>,\n",
       " <folium.vector_layers.CircleMarker at 0x7f301c7a4668>,\n",
       " <folium.vector_layers.CircleMarker at 0x7f301c7a4710>,\n",
       " <folium.vector_layers.CircleMarker at 0x7f301c7a47b8>,\n",
       " <folium.vector_layers.CircleMarker at 0x7f301c7a4860>,\n",
       " <folium.vector_layers.CircleMarker at 0x7f301c7a4908>,\n",
       " <folium.vector_layers.CircleMarker at 0x7f301c812940>,\n",
       " <folium.vector_layers.CircleMarker at 0x7f301c812048>,\n",
       " <folium.vector_layers.CircleMarker at 0x7f301c812080>,\n",
       " <folium.vector_layers.CircleMarker at 0x7f301c812fd0>,\n",
       " <folium.vector_layers.CircleMarker at 0x7f301c812eb8>,\n",
       " <folium.vector_layers.CircleMarker at 0x7f301c812f60>,\n",
       " <folium.vector_layers.CircleMarker at 0x7f301c89a278>,\n",
       " <folium.vector_layers.CircleMarker at 0x7f301c7fd9b0>,\n",
       " <folium.vector_layers.CircleMarker at 0x7f301c7e9f28>,\n",
       " <folium.vector_layers.CircleMarker at 0x7f301c7e9fd0>,\n",
       " <folium.vector_layers.CircleMarker at 0x7f301c7fdac8>,\n",
       " <folium.vector_layers.CircleMarker at 0x7f301c855668>,\n",
       " <folium.vector_layers.CircleMarker at 0x7f301c7a4748>,\n",
       " <folium.vector_layers.CircleMarker at 0x7f301c7a4780>,\n",
       " <folium.vector_layers.CircleMarker at 0x7f301c7a4630>,\n",
       " <folium.vector_layers.CircleMarker at 0x7f301c7a4080>,\n",
       " <folium.vector_layers.CircleMarker at 0x7f301c7a44a8>,\n",
       " <folium.vector_layers.CircleMarker at 0x7f301c7a4198>,\n",
       " <folium.vector_layers.CircleMarker at 0x7f301c7a4438>,\n",
       " <folium.vector_layers.CircleMarker at 0x7f301c7a49b0>,\n",
       " <folium.vector_layers.CircleMarker at 0x7f301c7a4898>,\n",
       " <folium.vector_layers.CircleMarker at 0x7f301c7a4ac8>,\n",
       " <folium.vector_layers.CircleMarker at 0x7f301c855080>,\n",
       " <folium.vector_layers.CircleMarker at 0x7f301c7e9a90>,\n",
       " <folium.vector_layers.CircleMarker at 0x7f301c7fd9e8>,\n",
       " <folium.vector_layers.CircleMarker at 0x7f301c7fdeb8>,\n",
       " <folium.vector_layers.CircleMarker at 0x7f301c812438>,\n",
       " <folium.vector_layers.CircleMarker at 0x7f301c8125f8>,\n",
       " <folium.vector_layers.CircleMarker at 0x7f301c812a58>,\n",
       " <folium.vector_layers.CircleMarker at 0x7f301c812160>,\n",
       " <folium.vector_layers.CircleMarker at 0x7f301c812a20>,\n",
       " <folium.vector_layers.CircleMarker at 0x7f301c7a4128>,\n",
       " <folium.vector_layers.CircleMarker at 0x7f301c7a44e0>,\n",
       " <folium.vector_layers.CircleMarker at 0x7f301c7a40b8>,\n",
       " <folium.vector_layers.CircleMarker at 0x7f301c7a4518>,\n",
       " <folium.vector_layers.CircleMarker at 0x7f301c7a48d0>,\n",
       " <folium.vector_layers.CircleMarker at 0x7f301c7a4b70>,\n",
       " <folium.vector_layers.CircleMarker at 0x7f301c7a4ba8>,\n",
       " <folium.vector_layers.CircleMarker at 0x7f301c7a4940>,\n",
       " <folium.vector_layers.CircleMarker at 0x7f301c7a4c88>,\n",
       " <folium.vector_layers.CircleMarker at 0x7f301c7a4d30>,\n",
       " <folium.vector_layers.CircleMarker at 0x7f301c7a4dd8>,\n",
       " <folium.vector_layers.CircleMarker at 0x7f301c7a4e80>,\n",
       " <folium.vector_layers.CircleMarker at 0x7f301c7a4f28>,\n",
       " <folium.vector_layers.CircleMarker at 0x7f301c812978>,\n",
       " <folium.vector_layers.CircleMarker at 0x7f301c7e9550>,\n",
       " <folium.vector_layers.CircleMarker at 0x7f301c812748>,\n",
       " <folium.vector_layers.CircleMarker at 0x7f301c812208>,\n",
       " <folium.vector_layers.CircleMarker at 0x7f301c7fdcc0>,\n",
       " <folium.vector_layers.CircleMarker at 0x7f301c7a4d68>,\n",
       " <folium.vector_layers.CircleMarker at 0x7f301c7a4da0>,\n",
       " <folium.vector_layers.CircleMarker at 0x7f301c7a4c50>,\n",
       " <folium.vector_layers.CircleMarker at 0x7f301c7a46d8>,\n",
       " <folium.vector_layers.CircleMarker at 0x7f301c7a4b00>,\n",
       " <folium.vector_layers.CircleMarker at 0x7f301c7a47f0>,\n",
       " <folium.vector_layers.CircleMarker at 0x7f301c7a4400>,\n",
       " <folium.vector_layers.CircleMarker at 0x7f301c7a4240>,\n",
       " <folium.vector_layers.CircleMarker at 0x7f301c7a4fd0>,\n",
       " <folium.vector_layers.CircleMarker at 0x7f301c7a4f60>,\n",
       " <folium.vector_layers.CircleMarker at 0x7f301c7a4978>,\n",
       " <folium.vector_layers.CircleMarker at 0x7f301c7ba0f0>,\n",
       " <folium.vector_layers.CircleMarker at 0x7f301c7ba208>,\n",
       " <folium.vector_layers.CircleMarker at 0x7f301c7ba2b0>,\n",
       " <folium.vector_layers.CircleMarker at 0x7f301c7ba358>,\n",
       " <folium.vector_layers.CircleMarker at 0x7f301c7ba400>,\n",
       " <folium.vector_layers.CircleMarker at 0x7f301c7ba4a8>,\n",
       " <folium.vector_layers.CircleMarker at 0x7f301c855dd8>,\n",
       " <folium.vector_layers.CircleMarker at 0x7f301c7fd198>,\n",
       " <folium.vector_layers.CircleMarker at 0x7f301c812d30>,\n",
       " <folium.vector_layers.CircleMarker at 0x7f301c812e10>,\n",
       " <folium.vector_layers.CircleMarker at 0x7f301c7a4048>,\n",
       " <folium.vector_layers.CircleMarker at 0x7f301c7a4a58>,\n",
       " <folium.vector_layers.CircleMarker at 0x7f301c7a4828>,\n",
       " <folium.vector_layers.CircleMarker at 0x7f301c7a46a0>,\n",
       " <folium.vector_layers.CircleMarker at 0x7f301c7a4cf8>,\n",
       " <folium.vector_layers.CircleMarker at 0x7f301c7a4f98>,\n",
       " <folium.vector_layers.CircleMarker at 0x7f301c7a4c18>,\n",
       " <folium.vector_layers.CircleMarker at 0x7f301c7ba128>,\n",
       " <folium.vector_layers.CircleMarker at 0x7f301c7ba198>,\n",
       " <folium.vector_layers.CircleMarker at 0x7f301c7ba048>,\n",
       " <folium.vector_layers.CircleMarker at 0x7f301c7ba5c0>,\n",
       " <folium.vector_layers.CircleMarker at 0x7f301c7ba5f8>,\n",
       " <folium.vector_layers.CircleMarker at 0x7f301c7ba4e0>,\n",
       " <folium.vector_layers.CircleMarker at 0x7f301c7ba6d8>,\n",
       " <folium.vector_layers.CircleMarker at 0x7f301c7ba780>,\n",
       " <folium.vector_layers.CircleMarker at 0x7f301c7ba828>,\n",
       " <folium.vector_layers.CircleMarker at 0x7f301c7ba8d0>,\n",
       " <folium.vector_layers.CircleMarker at 0x7f301c7a4cc0>,\n",
       " <folium.vector_layers.CircleMarker at 0x7f301c7a4ef0>,\n",
       " <folium.vector_layers.CircleMarker at 0x7f301c7a4a20>,\n",
       " <folium.vector_layers.CircleMarker at 0x7f301c7fda90>,\n",
       " <folium.vector_layers.CircleMarker at 0x7f301c7a4390>,\n",
       " <folium.vector_layers.CircleMarker at 0x7f301c7a4a90>,\n",
       " <folium.vector_layers.CircleMarker at 0x7f301c812518>,\n",
       " <folium.vector_layers.CircleMarker at 0x7f301c7ba978>,\n",
       " <folium.vector_layers.CircleMarker at 0x7f301c7ba7f0>,\n",
       " <folium.vector_layers.CircleMarker at 0x7f301c7ba6a0>,\n",
       " <folium.vector_layers.CircleMarker at 0x7f301c7ba160>,\n",
       " <folium.vector_layers.CircleMarker at 0x7f301c7ba550>,\n",
       " <folium.vector_layers.CircleMarker at 0x7f301c7ba278>,\n",
       " <folium.vector_layers.CircleMarker at 0x7f301c7ba2e8>,\n",
       " <folium.vector_layers.CircleMarker at 0x7f301c7ba860>,\n",
       " <folium.vector_layers.CircleMarker at 0x7f301c7baa90>,\n",
       " <folium.vector_layers.CircleMarker at 0x7f301c7baac8>,\n",
       " <folium.vector_layers.CircleMarker at 0x7f301c7bab70>,\n",
       " <folium.vector_layers.CircleMarker at 0x7f301c7bac18>]"
      ]
     },
     "execution_count": 95,
     "metadata": {},
     "output_type": "execute_result"
    }
   ],
   "source": [
    "map_with_markers"
   ]
  },
  {
   "cell_type": "markdown",
   "metadata": {},
   "source": [
    "### Using Nearest Neighbors"
   ]
  },
  {
   "cell_type": "markdown",
   "metadata": {},
   "source": [
    "Ok, let's write a function that given a latitude and longitude will predict the distance for us.  We'll do this by first finding the nearest trips given a latitude and longitude. "
   ]
  },
  {
   "cell_type": "markdown",
   "metadata": {},
   "source": [
    "Here we once again apply the nearest neighbors formula. As a first step, write a function named `distance_location` that calculates the distance in pickup location between two trips."
   ]
  },
  {
   "cell_type": "code",
   "execution_count": null,
   "metadata": {},
   "outputs": [],
   "source": [
    "import math\n",
    "\n",
    "def distance_location(selected_trip, neighbor_trip):\n",
    "    pass"
   ]
  },
  {
   "cell_type": "code",
   "execution_count": null,
   "metadata": {},
   "outputs": [],
   "source": [
    "first_trip = {'pickup_latitude': 40.64499, 'pickup_longitude': -73.78115, 'trip_distance': 18.38}\n",
    "second_trip = {'pickup_latitude': 40.766931, 'pickup_longitude': -73.982098, 'trip_distance': 1.3}\n",
    "distance_first_and_second = distance_location(first_trip, second_trip)\n",
    "\n",
    "distance_first_and_second and round(distance_first_and_second, 3) # 0.235"
   ]
  },
  {
   "cell_type": "markdown",
   "metadata": {},
   "source": [
    "Ok, next write a function called `distance_between_neighbors` that adds a new key-value pair, called `distance_from_selected`, that calculates the distance of the `neighbor_trip` from the `selected_trip`."
   ]
  },
  {
   "cell_type": "code",
   "execution_count": null,
   "metadata": {},
   "outputs": [],
   "source": [
    "def distance_between_neighbors(selected_trip, neighbor_trip):\n",
    "    pass"
   ]
  },
  {
   "cell_type": "code",
   "execution_count": null,
   "metadata": {},
   "outputs": [],
   "source": [
    "distance_between_neighbors(first_trip, second_trip)\n",
    "\n",
    "# {'distance_from_selected': 0.23505256047318146,\n",
    "#  'pickup_latitude': 40.766931,\n",
    "#  'pickup_longitude': -73.982098,\n",
    "#  'trip_distance': 1.3}"
   ]
  },
  {
   "cell_type": "markdown",
   "metadata": {},
   "source": [
    "Ok, now our `neighbor_trip` has another attribute called `distance_from_selected`, that indicates the distance from the `neighbor_trip`'s pickup location from the `selected_trip`."
   ]
  },
  {
   "cell_type": "markdown",
   "metadata": {},
   "source": [
    "> ** Understand the data:** Our dictionary now has a few attributes, two of which say distance.  Let's make sure we understand the difference. \n",
    "> * **`distance_from_selected`:** This is our calculation of the distance of the neighbor's pickup location from the selected trip.\n",
    "> * **`trip_distance`:** This is the attribute we were provided initially.  It tells us the length of the neighbor's taxi trip from pickup to drop-off.  "
   ]
  },
  {
   "cell_type": "markdown",
   "metadata": {},
   "source": [
    "Next, write a function called `distance_all` that provided a list of neighbors, returns each of those neighbors with their respective `distance_from_selected` numbers."
   ]
  },
  {
   "cell_type": "code",
   "execution_count": null,
   "metadata": {},
   "outputs": [],
   "source": [
    "def distance_all(selected_individual, neighbors):\n",
    "    pass"
   ]
  },
  {
   "cell_type": "code",
   "execution_count": null,
   "metadata": {},
   "outputs": [],
   "source": [
    "cleaned_trips and distance_all(first_trip, cleaned_trips[0:4])"
   ]
  },
  {
   "cell_type": "markdown",
   "metadata": {},
   "source": [
    "Now write the nearest neighbors formula to calculate the distance of the `selected_trip` from all of the `cleaned_trips` in our dataset.  If no number is provided, it should return the top 3 neighbors."
   ]
  },
  {
   "cell_type": "code",
   "execution_count": null,
   "metadata": {},
   "outputs": [],
   "source": [
    "def nearest_neighbors(selected_trip, trips, number = 3):\n",
    "    pass"
   ]
  },
  {
   "cell_type": "code",
   "execution_count": null,
   "metadata": {},
   "outputs": [],
   "source": [
    "new_trip = {'pickup_latitude': 40.64499,\n",
    "'pickup_longitude': -73.78115,\n",
    "'trip_distance': 18.38}\n",
    "\n",
    "nearest_three_neighbors = nearest_neighbors(new_trip, cleaned_trips or [], number = 3)\n",
    "nearest_three_neighbors\n",
    "# [{'distance_from_selected': 0.0004569288784918792,\n",
    "#   'pickup_latitude': 40.64483,\n",
    "#   'pickup_longitude': -73.781578,\n",
    "#   'trip_distance': 7.78},\n",
    "#  {'distance_from_selected': 0.0011292165425673159,\n",
    "#   'pickup_latitude': 40.644657,\n",
    "#   'pickup_longitude': -73.782229,\n",
    "#   'trip_distance': 12.7},\n",
    "#  {'distance_from_selected': 0.0042359798158141185,\n",
    "#   'pickup_latitude': 40.648509,\n",
    "#   'pickup_longitude': -73.783508,\n",
    "#   'trip_distance': 17.3}]"
   ]
  },
  {
   "cell_type": "markdown",
   "metadata": {},
   "source": [
    "Ok great! Now that we can provide a new trip location, and find the distances of the three nearest trips, we can take  calculate an estimate of the trip distance for that new trip location.  \n",
    "\n",
    "We do so simply by calculating the average of it's nearest neighbors."
   ]
  },
  {
   "cell_type": "code",
   "execution_count": null,
   "metadata": {},
   "outputs": [],
   "source": [
    "import statistics\n",
    "def mean_distance(neighbors):\n",
    "    nearest_distances = list(map(lambda neighbor: neighbor['trip_distance'], neighbors))\n",
    "    return round(statistics.mean(nearest_distances), 3)\n",
    "\n",
    "nearest_three_neighbors = nearest_neighbors(new_trip, cleaned_trips or [], number = 3)\n",
    "distance_estimate_of_selected_trip = mean_distance(nearest_three_neighbors) # 12.593\n",
    "distance_estimate_of_selected_trip"
   ]
  },
  {
   "cell_type": "markdown",
   "metadata": {},
   "source": [
    "### Choosing the correct number of neighbors"
   ]
  },
  {
   "cell_type": "markdown",
   "metadata": {},
   "source": [
    "Now, as we know from the last lesson, one tricky element is to determine how many neighbors to choose, our $k$ value,  before calculating the average.  We want to choose our value of $k$ such that it properly matches actual data, and so that it applies to new data.  There are fancy formulas to ensure that we **train** our algorithm so that our formula is optimized for all data, but here let's see different $k$ values manually.  This is the gist of choosing our $k$ value:\n",
    "\n",
    "* If we choose a $k$ value too low, our formula will be too heavily influenced by a single neighbor, whereas if our $k$ value is too high, we will be choosing so many neighbors that our nearest neighbors formula will not be adjust enough according to locations.\n",
    "\n",
    "Ok, let's experiment with this."
   ]
  },
  {
   "cell_type": "markdown",
   "metadata": {},
   "source": [
    "First, let's choose a midtown location, to see what the trip distance would be.  A Google search reveals the coordinates of 51st and 7th avenue to be the following."
   ]
  },
  {
   "cell_type": "code",
   "execution_count": null,
   "metadata": {},
   "outputs": [],
   "source": [
    "midtown_trip = dict(pickup_latitude=40.761710, pickup_longitude=-73.982760)"
   ]
  },
  {
   "cell_type": "code",
   "execution_count": null,
   "metadata": {},
   "outputs": [],
   "source": [
    "seven_closest = nearest_neighbors(midtown_trip, cleaned_trips, number = 7)\n",
    "seven_closest\n",
    "# [{'trip_distance': 0.58,\n",
    "#   'pickup_latitude': 40.761372,\n",
    "#   'pickup_longitude': -73.982602,\n",
    "#   'distance_from_selected': 0.00037310588309379025},\n",
    "#  {'trip_distance': 0.8,\n",
    "#   'pickup_latitude': 40.762444,\n",
    "#   'pickup_longitude': -73.98244,\n",
    "#   'distance_from_selected': 0.00080072217404248},\n",
    "#  {'trip_distance': 1.4,\n",
    "#   'pickup_latitude': 40.762767,\n",
    "#   'pickup_longitude': -73.982293,\n",
    "#   'distance_from_selected': 0.0011555682584735844},\n",
    "#  {'trip_distance': 8.3,\n",
    "#   'pickup_latitude': 40.762868,\n",
    "#   'pickup_longitude': -73.983233,\n",
    "#   'distance_from_selected': 0.0012508768924205918},\n",
    "#  {'trip_distance': 1.26,\n",
    "#   'pickup_latitude': 40.760057,\n",
    "#   'pickup_longitude': -73.983502,\n",
    "#   'distance_from_selected': 0.0018118976240381972},\n",
    "#  {'trip_distance': 0.0,\n",
    "#   'pickup_latitude': 40.760644,\n",
    "#   'pickup_longitude': -73.984531,\n",
    "#   'distance_from_selected': 0.002067074502774709},\n",
    "#  {'trip_distance': 1.72,\n",
    "#   'pickup_latitude': 40.762107,\n",
    "#   'pickup_longitude': -73.98479,\n",
    "#   'distance_from_selected': 0.0020684557041472677}]"
   ]
  },
  {
   "cell_type": "markdown",
   "metadata": {},
   "source": [
    "Looking at the `distance_from_selected` it appears that our our trips are still fairly close to our selected trip.  Notice that most of the data is within a distance of .002 away, so going to the top 7 nearest neighbors didn't seem to give us neighbors too far from each other, which is a good sign.\n",
    "\n",
    "Still, it's hard to know what distance in latitude and longitude really look like, so let's map the data. "
   ]
  },
  {
   "cell_type": "code",
   "execution_count": null,
   "metadata": {},
   "outputs": [],
   "source": [
    "midtown_location = location(midtown_trip) # [40.76171, -73.98276]\n",
    "midtown_map = map_from(midtown_location, 16)\n",
    "closest_markers = markers_from_trips(seven_closest)\n",
    "\n",
    "add_markers(closest_markers, midtown_map)"
   ]
  },
  {
   "cell_type": "markdown",
   "metadata": {},
   "source": [
    "Ok.  These locations stay fairly close to our estimated location of 51st street and 7th Avenue.  So they could be a good estimate of a trip distance."
   ]
  },
  {
   "cell_type": "code",
   "execution_count": null,
   "metadata": {},
   "outputs": [],
   "source": [
    "mean_distance(seven_closest) # 2.009"
   ]
  },
  {
   "cell_type": "markdown",
   "metadata": {},
   "source": [
    "Ok, now let's try a different location"
   ]
  },
  {
   "cell_type": "code",
   "execution_count": null,
   "metadata": {},
   "outputs": [],
   "source": [
    "charging_bull_closest = nearest_neighbors({'pickup_latitude': 40.7049, 'pickup_longitude': -74.0137}, cleaned_trips, number = 12)"
   ]
  },
  {
   "cell_type": "code",
   "execution_count": null,
   "metadata": {
    "scrolled": true
   },
   "outputs": [],
   "source": [
    "mean_distance(charging_bull_closest) # 3.145"
   ]
  },
  {
   "cell_type": "markdown",
   "metadata": {},
   "source": [
    "Ok, so there appears to be a significant difference between choosing a location near Times Square versus choosing a location at Wall Street."
   ]
  },
  {
   "cell_type": "markdown",
   "metadata": {},
   "source": [
    "### Summary"
   ]
  },
  {
   "cell_type": "markdown",
   "metadata": {},
   "source": [
    "In this lab, we used the nearest neighbors function to predict the length of a taxi ride.  To do so, we selected a location, then found a number of taxi rides closest to that location, and finally took the average trip lengths of the nearest taxi rides to find an estimate of the new ride's trip length.  You can see that even with just a little bit of math and programming we can begin to make meaningful predictions with data."
   ]
  }
 ],
 "metadata": {
  "kernelspec": {
   "display_name": "Python 3",
   "language": "python",
   "name": "python3"
  },
  "language_info": {
   "codemirror_mode": {
    "name": "ipython",
    "version": 3
   },
   "file_extension": ".py",
   "mimetype": "text/x-python",
   "name": "python",
   "nbconvert_exporter": "python",
   "pygments_lexer": "ipython3",
   "version": "3.6.6"
  }
 },
 "nbformat": 4,
 "nbformat_minor": 2
}
